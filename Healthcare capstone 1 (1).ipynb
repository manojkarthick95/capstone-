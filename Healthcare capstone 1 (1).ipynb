{
 "cells": [
  {
   "cell_type": "code",
   "execution_count": 1,
   "metadata": {},
   "outputs": [],
   "source": [
    "import pandas as pd\n",
    "import numpy as np\n",
    "from glob import glob\n",
    "import matplotlib.pyplot as plt\n",
    "%matplotlib inline\n",
    "import seaborn as sns"
   ]
  },
  {
   "cell_type": "markdown",
   "metadata": {},
   "source": [
    " ## DOMAIN: Healthcare"
   ]
  },
  {
   "cell_type": "markdown",
   "metadata": {},
   "source": [
    "\n",
    " ## CONTEXT :  \n",
    "1.Medical  research  university  X  is  undergoing  a  deep  research  on  patients\n",
    "with  certain  conditions.\n",
    "\n",
    "2.University  has  an  internal  AI  team. \n",
    "    \n",
    "3.Due  to  confidentiality  the  patient’s  details  and  the  conditions  are  masked  by the  client\n",
    "by  providing  different  datasets  to  the  AI  team  for  developing  a  AIML  model \n",
    "which  can  predict  the condition of the patient depending on the received test results\n",
    "\n",
    "\n",
    "    "
   ]
  },
  {
   "cell_type": "markdown",
   "metadata": {},
   "source": [
    "## DATA  DESCRIPTION:\n",
    "1.The  data  consists  of  biomechanics  features  of  the  patients  according  to  their  current condition.\n",
    "\n",
    "2.Each patient is represented in the data set by six biomechanics attributes\n",
    " derived from the shape and orientation of the condition to their body part."
   ]
  },
  {
   "cell_type": "markdown",
   "metadata": {},
   "source": [
    "\n",
    "1.pelvic_incidence - P_incidence - ( Angle at the back bone , how much it bend .)\n",
    "\n",
    "2.pelvic_tilt numeric - P_tilt - ( angel for the body , which is st)\n",
    "\n",
    "3.lumbar_lordosis_angle - L_angle - ( how much angel spinal bend)\n",
    "\n",
    "4.sacral_slope - S_slope - ( how much angel the butt bones are there )\n",
    "\n",
    "5.pelvic_radius - P_radius - ( radius between the butt and spinal)\n",
    "\n",
    "6.degree_spondylolisthesis - S_degree  ( degree of angle between butt and spinal )\n",
    "\n",
    "7.Class - normal, type S , type H"
   ]
  },
  {
   "cell_type": "code",
   "execution_count": 2,
   "metadata": {},
   "outputs": [
    {
     "data": {
      "text/plain": [
       "['data1.csv', 'data2.csv', 'data3.csv']"
      ]
     },
     "execution_count": 2,
     "metadata": {},
     "output_type": "execute_result"
    }
   ],
   "source": [
    "files = glob('data*.csv')\n",
    "files"
   ]
  },
  {
   "cell_type": "code",
   "execution_count": 3,
   "metadata": {},
   "outputs": [],
   "source": [
    "df=  pd.concat((pd.read_csv(file)for file in files),ignore_index=True)#concating two files into one"
   ]
  },
  {
   "cell_type": "code",
   "execution_count": 4,
   "metadata": {},
   "outputs": [
    {
     "data": {
      "text/html": [
       "<div>\n",
       "<style scoped>\n",
       "    .dataframe tbody tr th:only-of-type {\n",
       "        vertical-align: middle;\n",
       "    }\n",
       "\n",
       "    .dataframe tbody tr th {\n",
       "        vertical-align: top;\n",
       "    }\n",
       "\n",
       "    .dataframe thead th {\n",
       "        text-align: right;\n",
       "    }\n",
       "</style>\n",
       "<table border=\"1\" class=\"dataframe\">\n",
       "  <thead>\n",
       "    <tr style=\"text-align: right;\">\n",
       "      <th></th>\n",
       "      <th>P_incidence</th>\n",
       "      <th>P_tilt</th>\n",
       "      <th>L_angle</th>\n",
       "      <th>S_slope</th>\n",
       "      <th>P_radius</th>\n",
       "      <th>S_Degree</th>\n",
       "      <th>Class</th>\n",
       "    </tr>\n",
       "  </thead>\n",
       "  <tbody>\n",
       "    <tr>\n",
       "      <th>0</th>\n",
       "      <td>74.377678</td>\n",
       "      <td>32.053104</td>\n",
       "      <td>78.772013</td>\n",
       "      <td>42.324573</td>\n",
       "      <td>143.560690</td>\n",
       "      <td>56.125906</td>\n",
       "      <td>Type_S</td>\n",
       "    </tr>\n",
       "    <tr>\n",
       "      <th>1</th>\n",
       "      <td>89.680567</td>\n",
       "      <td>32.704435</td>\n",
       "      <td>83.130732</td>\n",
       "      <td>56.976132</td>\n",
       "      <td>129.955476</td>\n",
       "      <td>92.027277</td>\n",
       "      <td>Type_S</td>\n",
       "    </tr>\n",
       "    <tr>\n",
       "      <th>2</th>\n",
       "      <td>44.529051</td>\n",
       "      <td>9.433234</td>\n",
       "      <td>52.000000</td>\n",
       "      <td>35.095817</td>\n",
       "      <td>134.711772</td>\n",
       "      <td>29.106575</td>\n",
       "      <td>Type_S</td>\n",
       "    </tr>\n",
       "    <tr>\n",
       "      <th>3</th>\n",
       "      <td>77.690577</td>\n",
       "      <td>21.380645</td>\n",
       "      <td>64.429442</td>\n",
       "      <td>56.309932</td>\n",
       "      <td>114.818751</td>\n",
       "      <td>26.931841</td>\n",
       "      <td>Type_S</td>\n",
       "    </tr>\n",
       "    <tr>\n",
       "      <th>4</th>\n",
       "      <td>76.147212</td>\n",
       "      <td>21.936186</td>\n",
       "      <td>82.961502</td>\n",
       "      <td>54.211027</td>\n",
       "      <td>123.932010</td>\n",
       "      <td>10.431972</td>\n",
       "      <td>Type_S</td>\n",
       "    </tr>\n",
       "    <tr>\n",
       "      <th>...</th>\n",
       "      <td>...</td>\n",
       "      <td>...</td>\n",
       "      <td>...</td>\n",
       "      <td>...</td>\n",
       "      <td>...</td>\n",
       "      <td>...</td>\n",
       "      <td>...</td>\n",
       "    </tr>\n",
       "    <tr>\n",
       "      <th>305</th>\n",
       "      <td>47.903565</td>\n",
       "      <td>13.616688</td>\n",
       "      <td>36.000000</td>\n",
       "      <td>34.286877</td>\n",
       "      <td>117.449062</td>\n",
       "      <td>-4.245395</td>\n",
       "      <td>Normal</td>\n",
       "    </tr>\n",
       "    <tr>\n",
       "      <th>306</th>\n",
       "      <td>53.936748</td>\n",
       "      <td>20.721496</td>\n",
       "      <td>29.220534</td>\n",
       "      <td>33.215251</td>\n",
       "      <td>114.365845</td>\n",
       "      <td>-0.421010</td>\n",
       "      <td>Normal</td>\n",
       "    </tr>\n",
       "    <tr>\n",
       "      <th>307</th>\n",
       "      <td>61.446597</td>\n",
       "      <td>22.694968</td>\n",
       "      <td>46.170347</td>\n",
       "      <td>38.751628</td>\n",
       "      <td>125.670725</td>\n",
       "      <td>-2.707880</td>\n",
       "      <td>Normal</td>\n",
       "    </tr>\n",
       "    <tr>\n",
       "      <th>308</th>\n",
       "      <td>45.252792</td>\n",
       "      <td>8.693157</td>\n",
       "      <td>41.583126</td>\n",
       "      <td>36.559635</td>\n",
       "      <td>118.545842</td>\n",
       "      <td>0.214750</td>\n",
       "      <td>Normal</td>\n",
       "    </tr>\n",
       "    <tr>\n",
       "      <th>309</th>\n",
       "      <td>33.841641</td>\n",
       "      <td>5.073991</td>\n",
       "      <td>36.641233</td>\n",
       "      <td>28.767649</td>\n",
       "      <td>123.945244</td>\n",
       "      <td>-0.199249</td>\n",
       "      <td>Normal</td>\n",
       "    </tr>\n",
       "  </tbody>\n",
       "</table>\n",
       "<p>310 rows × 7 columns</p>\n",
       "</div>"
      ],
      "text/plain": [
       "     P_incidence     P_tilt    L_angle    S_slope    P_radius   S_Degree  \\\n",
       "0      74.377678  32.053104  78.772013  42.324573  143.560690  56.125906   \n",
       "1      89.680567  32.704435  83.130732  56.976132  129.955476  92.027277   \n",
       "2      44.529051   9.433234  52.000000  35.095817  134.711772  29.106575   \n",
       "3      77.690577  21.380645  64.429442  56.309932  114.818751  26.931841   \n",
       "4      76.147212  21.936186  82.961502  54.211027  123.932010  10.431972   \n",
       "..           ...        ...        ...        ...         ...        ...   \n",
       "305    47.903565  13.616688  36.000000  34.286877  117.449062  -4.245395   \n",
       "306    53.936748  20.721496  29.220534  33.215251  114.365845  -0.421010   \n",
       "307    61.446597  22.694968  46.170347  38.751628  125.670725  -2.707880   \n",
       "308    45.252792   8.693157  41.583126  36.559635  118.545842   0.214750   \n",
       "309    33.841641   5.073991  36.641233  28.767649  123.945244  -0.199249   \n",
       "\n",
       "      Class  \n",
       "0    Type_S  \n",
       "1    Type_S  \n",
       "2    Type_S  \n",
       "3    Type_S  \n",
       "4    Type_S  \n",
       "..      ...  \n",
       "305  Normal  \n",
       "306  Normal  \n",
       "307  Normal  \n",
       "308  Normal  \n",
       "309  Normal  \n",
       "\n",
       "[310 rows x 7 columns]"
      ]
     },
     "execution_count": 4,
     "metadata": {},
     "output_type": "execute_result"
    }
   ],
   "source": [
    "df\n"
   ]
  },
  {
   "cell_type": "code",
   "execution_count": 5,
   "metadata": {},
   "outputs": [
    {
     "data": {
      "text/plain": [
       "2170"
      ]
     },
     "execution_count": 5,
     "metadata": {},
     "output_type": "execute_result"
    }
   ],
   "source": [
    "df.size"
   ]
  },
  {
   "cell_type": "code",
   "execution_count": 6,
   "metadata": {},
   "outputs": [
    {
     "data": {
      "text/plain": [
       "(310, 7)"
      ]
     },
     "execution_count": 6,
     "metadata": {},
     "output_type": "execute_result"
    }
   ],
   "source": [
    "df.shape"
   ]
  },
  {
   "cell_type": "code",
   "execution_count": 7,
   "metadata": {},
   "outputs": [
    {
     "data": {
      "text/html": [
       "<div>\n",
       "<style scoped>\n",
       "    .dataframe tbody tr th:only-of-type {\n",
       "        vertical-align: middle;\n",
       "    }\n",
       "\n",
       "    .dataframe tbody tr th {\n",
       "        vertical-align: top;\n",
       "    }\n",
       "\n",
       "    .dataframe thead th {\n",
       "        text-align: right;\n",
       "    }\n",
       "</style>\n",
       "<table border=\"1\" class=\"dataframe\">\n",
       "  <thead>\n",
       "    <tr style=\"text-align: right;\">\n",
       "      <th></th>\n",
       "      <th>P_incidence</th>\n",
       "      <th>P_tilt</th>\n",
       "      <th>L_angle</th>\n",
       "      <th>S_slope</th>\n",
       "      <th>P_radius</th>\n",
       "      <th>S_Degree</th>\n",
       "      <th>Class</th>\n",
       "    </tr>\n",
       "  </thead>\n",
       "  <tbody>\n",
       "    <tr>\n",
       "      <th>0</th>\n",
       "      <td>74.377678</td>\n",
       "      <td>32.053104</td>\n",
       "      <td>78.772013</td>\n",
       "      <td>42.324573</td>\n",
       "      <td>143.560690</td>\n",
       "      <td>56.125906</td>\n",
       "      <td>Type_S</td>\n",
       "    </tr>\n",
       "    <tr>\n",
       "      <th>1</th>\n",
       "      <td>89.680567</td>\n",
       "      <td>32.704435</td>\n",
       "      <td>83.130732</td>\n",
       "      <td>56.976132</td>\n",
       "      <td>129.955476</td>\n",
       "      <td>92.027277</td>\n",
       "      <td>Type_S</td>\n",
       "    </tr>\n",
       "    <tr>\n",
       "      <th>2</th>\n",
       "      <td>44.529051</td>\n",
       "      <td>9.433234</td>\n",
       "      <td>52.000000</td>\n",
       "      <td>35.095817</td>\n",
       "      <td>134.711772</td>\n",
       "      <td>29.106575</td>\n",
       "      <td>Type_S</td>\n",
       "    </tr>\n",
       "    <tr>\n",
       "      <th>3</th>\n",
       "      <td>77.690577</td>\n",
       "      <td>21.380645</td>\n",
       "      <td>64.429442</td>\n",
       "      <td>56.309932</td>\n",
       "      <td>114.818751</td>\n",
       "      <td>26.931841</td>\n",
       "      <td>Type_S</td>\n",
       "    </tr>\n",
       "    <tr>\n",
       "      <th>4</th>\n",
       "      <td>76.147212</td>\n",
       "      <td>21.936186</td>\n",
       "      <td>82.961502</td>\n",
       "      <td>54.211027</td>\n",
       "      <td>123.932010</td>\n",
       "      <td>10.431972</td>\n",
       "      <td>Type_S</td>\n",
       "    </tr>\n",
       "    <tr>\n",
       "      <th>5</th>\n",
       "      <td>83.933009</td>\n",
       "      <td>41.286305</td>\n",
       "      <td>62.000000</td>\n",
       "      <td>42.646703</td>\n",
       "      <td>115.012334</td>\n",
       "      <td>26.588100</td>\n",
       "      <td>Type_S</td>\n",
       "    </tr>\n",
       "    <tr>\n",
       "      <th>6</th>\n",
       "      <td>78.491730</td>\n",
       "      <td>22.181798</td>\n",
       "      <td>60.000000</td>\n",
       "      <td>56.309932</td>\n",
       "      <td>118.530327</td>\n",
       "      <td>27.383213</td>\n",
       "      <td>Type_S</td>\n",
       "    </tr>\n",
       "    <tr>\n",
       "      <th>7</th>\n",
       "      <td>75.649731</td>\n",
       "      <td>19.339799</td>\n",
       "      <td>64.148685</td>\n",
       "      <td>56.309932</td>\n",
       "      <td>95.903629</td>\n",
       "      <td>69.551303</td>\n",
       "      <td>Type_S</td>\n",
       "    </tr>\n",
       "    <tr>\n",
       "      <th>8</th>\n",
       "      <td>72.076278</td>\n",
       "      <td>18.946176</td>\n",
       "      <td>51.000000</td>\n",
       "      <td>53.130102</td>\n",
       "      <td>114.213013</td>\n",
       "      <td>1.010041</td>\n",
       "      <td>Type_S</td>\n",
       "    </tr>\n",
       "    <tr>\n",
       "      <th>9</th>\n",
       "      <td>58.599529</td>\n",
       "      <td>-0.261499</td>\n",
       "      <td>51.500000</td>\n",
       "      <td>58.861028</td>\n",
       "      <td>102.042812</td>\n",
       "      <td>28.059697</td>\n",
       "      <td>Type_S</td>\n",
       "    </tr>\n",
       "    <tr>\n",
       "      <th>10</th>\n",
       "      <td>72.560702</td>\n",
       "      <td>17.385191</td>\n",
       "      <td>52.000000</td>\n",
       "      <td>55.175511</td>\n",
       "      <td>119.193724</td>\n",
       "      <td>32.108537</td>\n",
       "      <td>Type_S</td>\n",
       "    </tr>\n",
       "    <tr>\n",
       "      <th>11</th>\n",
       "      <td>86.900794</td>\n",
       "      <td>32.928168</td>\n",
       "      <td>47.794347</td>\n",
       "      <td>53.972627</td>\n",
       "      <td>135.075364</td>\n",
       "      <td>101.719092</td>\n",
       "      <td>Type_S</td>\n",
       "    </tr>\n",
       "    <tr>\n",
       "      <th>12</th>\n",
       "      <td>84.974132</td>\n",
       "      <td>33.021175</td>\n",
       "      <td>60.859873</td>\n",
       "      <td>51.952957</td>\n",
       "      <td>125.659534</td>\n",
       "      <td>74.333409</td>\n",
       "      <td>Type_S</td>\n",
       "    </tr>\n",
       "    <tr>\n",
       "      <th>13</th>\n",
       "      <td>55.512212</td>\n",
       "      <td>20.095157</td>\n",
       "      <td>44.000000</td>\n",
       "      <td>35.417055</td>\n",
       "      <td>122.648753</td>\n",
       "      <td>34.552946</td>\n",
       "      <td>Type_S</td>\n",
       "    </tr>\n",
       "    <tr>\n",
       "      <th>14</th>\n",
       "      <td>72.222334</td>\n",
       "      <td>23.077711</td>\n",
       "      <td>91.000000</td>\n",
       "      <td>49.144624</td>\n",
       "      <td>137.736655</td>\n",
       "      <td>56.804093</td>\n",
       "      <td>Type_S</td>\n",
       "    </tr>\n",
       "    <tr>\n",
       "      <th>15</th>\n",
       "      <td>70.221452</td>\n",
       "      <td>39.822724</td>\n",
       "      <td>68.118403</td>\n",
       "      <td>30.398728</td>\n",
       "      <td>148.525562</td>\n",
       "      <td>145.378143</td>\n",
       "      <td>Type_S</td>\n",
       "    </tr>\n",
       "    <tr>\n",
       "      <th>16</th>\n",
       "      <td>86.753609</td>\n",
       "      <td>36.043016</td>\n",
       "      <td>69.221045</td>\n",
       "      <td>50.710593</td>\n",
       "      <td>139.414504</td>\n",
       "      <td>110.860782</td>\n",
       "      <td>Type_S</td>\n",
       "    </tr>\n",
       "    <tr>\n",
       "      <th>17</th>\n",
       "      <td>58.782548</td>\n",
       "      <td>7.667044</td>\n",
       "      <td>53.338941</td>\n",
       "      <td>51.115504</td>\n",
       "      <td>98.501157</td>\n",
       "      <td>51.584125</td>\n",
       "      <td>Type_S</td>\n",
       "    </tr>\n",
       "    <tr>\n",
       "      <th>18</th>\n",
       "      <td>67.412538</td>\n",
       "      <td>17.442797</td>\n",
       "      <td>60.144640</td>\n",
       "      <td>49.969741</td>\n",
       "      <td>111.123970</td>\n",
       "      <td>33.157646</td>\n",
       "      <td>Type_S</td>\n",
       "    </tr>\n",
       "    <tr>\n",
       "      <th>19</th>\n",
       "      <td>47.744679</td>\n",
       "      <td>12.089351</td>\n",
       "      <td>39.000000</td>\n",
       "      <td>35.655328</td>\n",
       "      <td>117.512004</td>\n",
       "      <td>21.682401</td>\n",
       "      <td>Type_S</td>\n",
       "    </tr>\n",
       "    <tr>\n",
       "      <th>20</th>\n",
       "      <td>77.106571</td>\n",
       "      <td>30.469994</td>\n",
       "      <td>69.480628</td>\n",
       "      <td>46.636577</td>\n",
       "      <td>112.151600</td>\n",
       "      <td>70.759083</td>\n",
       "      <td>Type_S</td>\n",
       "    </tr>\n",
       "    <tr>\n",
       "      <th>21</th>\n",
       "      <td>74.005541</td>\n",
       "      <td>21.122402</td>\n",
       "      <td>57.379502</td>\n",
       "      <td>52.883139</td>\n",
       "      <td>120.205963</td>\n",
       "      <td>74.555166</td>\n",
       "      <td>Type_S</td>\n",
       "    </tr>\n",
       "    <tr>\n",
       "      <th>22</th>\n",
       "      <td>88.623908</td>\n",
       "      <td>29.089453</td>\n",
       "      <td>47.564262</td>\n",
       "      <td>59.534455</td>\n",
       "      <td>121.764780</td>\n",
       "      <td>51.805899</td>\n",
       "      <td>Type_S</td>\n",
       "    </tr>\n",
       "    <tr>\n",
       "      <th>23</th>\n",
       "      <td>81.104100</td>\n",
       "      <td>24.794168</td>\n",
       "      <td>77.887020</td>\n",
       "      <td>56.309932</td>\n",
       "      <td>151.839857</td>\n",
       "      <td>65.214616</td>\n",
       "      <td>Type_S</td>\n",
       "    </tr>\n",
       "    <tr>\n",
       "      <th>24</th>\n",
       "      <td>76.326002</td>\n",
       "      <td>42.396204</td>\n",
       "      <td>57.200000</td>\n",
       "      <td>33.929797</td>\n",
       "      <td>124.267007</td>\n",
       "      <td>50.127457</td>\n",
       "      <td>Type_S</td>\n",
       "    </tr>\n",
       "    <tr>\n",
       "      <th>25</th>\n",
       "      <td>45.443750</td>\n",
       "      <td>9.906072</td>\n",
       "      <td>45.000000</td>\n",
       "      <td>35.537678</td>\n",
       "      <td>163.071041</td>\n",
       "      <td>20.315315</td>\n",
       "      <td>Type_S</td>\n",
       "    </tr>\n",
       "    <tr>\n",
       "      <th>26</th>\n",
       "      <td>59.785265</td>\n",
       "      <td>17.879323</td>\n",
       "      <td>59.206461</td>\n",
       "      <td>41.905942</td>\n",
       "      <td>119.319111</td>\n",
       "      <td>22.123869</td>\n",
       "      <td>Type_S</td>\n",
       "    </tr>\n",
       "    <tr>\n",
       "      <th>27</th>\n",
       "      <td>44.914149</td>\n",
       "      <td>10.218996</td>\n",
       "      <td>44.630914</td>\n",
       "      <td>34.695154</td>\n",
       "      <td>130.075660</td>\n",
       "      <td>37.364540</td>\n",
       "      <td>Type_S</td>\n",
       "    </tr>\n",
       "    <tr>\n",
       "      <th>28</th>\n",
       "      <td>56.605771</td>\n",
       "      <td>16.800200</td>\n",
       "      <td>42.000000</td>\n",
       "      <td>39.805571</td>\n",
       "      <td>127.294522</td>\n",
       "      <td>24.018575</td>\n",
       "      <td>Type_S</td>\n",
       "    </tr>\n",
       "    <tr>\n",
       "      <th>29</th>\n",
       "      <td>71.186811</td>\n",
       "      <td>23.896201</td>\n",
       "      <td>43.696665</td>\n",
       "      <td>47.290610</td>\n",
       "      <td>119.864938</td>\n",
       "      <td>27.283985</td>\n",
       "      <td>Type_S</td>\n",
       "    </tr>\n",
       "    <tr>\n",
       "      <th>30</th>\n",
       "      <td>81.656032</td>\n",
       "      <td>28.748869</td>\n",
       "      <td>58.232821</td>\n",
       "      <td>52.907163</td>\n",
       "      <td>114.769856</td>\n",
       "      <td>30.609148</td>\n",
       "      <td>Type_S</td>\n",
       "    </tr>\n",
       "    <tr>\n",
       "      <th>31</th>\n",
       "      <td>70.952728</td>\n",
       "      <td>20.159931</td>\n",
       "      <td>62.859109</td>\n",
       "      <td>50.792797</td>\n",
       "      <td>116.177932</td>\n",
       "      <td>32.522331</td>\n",
       "      <td>Type_S</td>\n",
       "    </tr>\n",
       "    <tr>\n",
       "      <th>32</th>\n",
       "      <td>85.352315</td>\n",
       "      <td>15.844910</td>\n",
       "      <td>71.668660</td>\n",
       "      <td>69.507405</td>\n",
       "      <td>124.419787</td>\n",
       "      <td>76.020603</td>\n",
       "      <td>Type_S</td>\n",
       "    </tr>\n",
       "    <tr>\n",
       "      <th>33</th>\n",
       "      <td>58.101935</td>\n",
       "      <td>14.837639</td>\n",
       "      <td>79.649838</td>\n",
       "      <td>43.264295</td>\n",
       "      <td>113.587655</td>\n",
       "      <td>50.237878</td>\n",
       "      <td>Type_S</td>\n",
       "    </tr>\n",
       "    <tr>\n",
       "      <th>34</th>\n",
       "      <td>94.174822</td>\n",
       "      <td>15.380770</td>\n",
       "      <td>67.705721</td>\n",
       "      <td>78.794052</td>\n",
       "      <td>114.890113</td>\n",
       "      <td>53.255220</td>\n",
       "      <td>Type_S</td>\n",
       "    </tr>\n",
       "    <tr>\n",
       "      <th>35</th>\n",
       "      <td>57.522356</td>\n",
       "      <td>33.647075</td>\n",
       "      <td>50.909858</td>\n",
       "      <td>23.875281</td>\n",
       "      <td>140.981712</td>\n",
       "      <td>148.753711</td>\n",
       "      <td>Type_S</td>\n",
       "    </tr>\n",
       "    <tr>\n",
       "      <th>36</th>\n",
       "      <td>96.657315</td>\n",
       "      <td>19.461581</td>\n",
       "      <td>90.211498</td>\n",
       "      <td>77.195734</td>\n",
       "      <td>120.673041</td>\n",
       "      <td>64.080998</td>\n",
       "      <td>Type_S</td>\n",
       "    </tr>\n",
       "    <tr>\n",
       "      <th>37</th>\n",
       "      <td>74.720746</td>\n",
       "      <td>19.756942</td>\n",
       "      <td>82.735360</td>\n",
       "      <td>54.963804</td>\n",
       "      <td>109.356594</td>\n",
       "      <td>33.306067</td>\n",
       "      <td>Type_S</td>\n",
       "    </tr>\n",
       "    <tr>\n",
       "      <th>38</th>\n",
       "      <td>77.655119</td>\n",
       "      <td>22.432950</td>\n",
       "      <td>93.892779</td>\n",
       "      <td>55.222169</td>\n",
       "      <td>123.055707</td>\n",
       "      <td>61.211187</td>\n",
       "      <td>Type_S</td>\n",
       "    </tr>\n",
       "    <tr>\n",
       "      <th>39</th>\n",
       "      <td>58.521623</td>\n",
       "      <td>13.922286</td>\n",
       "      <td>41.467855</td>\n",
       "      <td>44.599337</td>\n",
       "      <td>115.514798</td>\n",
       "      <td>30.387984</td>\n",
       "      <td>Type_S</td>\n",
       "    </tr>\n",
       "    <tr>\n",
       "      <th>40</th>\n",
       "      <td>84.585607</td>\n",
       "      <td>30.361685</td>\n",
       "      <td>65.479486</td>\n",
       "      <td>54.223922</td>\n",
       "      <td>108.010218</td>\n",
       "      <td>25.118478</td>\n",
       "      <td>Type_S</td>\n",
       "    </tr>\n",
       "    <tr>\n",
       "      <th>41</th>\n",
       "      <td>79.938570</td>\n",
       "      <td>18.774071</td>\n",
       "      <td>63.311835</td>\n",
       "      <td>61.164499</td>\n",
       "      <td>114.787107</td>\n",
       "      <td>38.538741</td>\n",
       "      <td>Type_S</td>\n",
       "    </tr>\n",
       "    <tr>\n",
       "      <th>42</th>\n",
       "      <td>70.399308</td>\n",
       "      <td>13.469986</td>\n",
       "      <td>61.200000</td>\n",
       "      <td>56.929322</td>\n",
       "      <td>102.337524</td>\n",
       "      <td>25.538429</td>\n",
       "      <td>Type_S</td>\n",
       "    </tr>\n",
       "    <tr>\n",
       "      <th>43</th>\n",
       "      <td>49.782121</td>\n",
       "      <td>6.466805</td>\n",
       "      <td>53.000000</td>\n",
       "      <td>43.315316</td>\n",
       "      <td>110.864783</td>\n",
       "      <td>25.335647</td>\n",
       "      <td>Type_S</td>\n",
       "    </tr>\n",
       "    <tr>\n",
       "      <th>44</th>\n",
       "      <td>77.409333</td>\n",
       "      <td>29.396545</td>\n",
       "      <td>63.232302</td>\n",
       "      <td>48.012788</td>\n",
       "      <td>118.450731</td>\n",
       "      <td>93.563737</td>\n",
       "      <td>Type_S</td>\n",
       "    </tr>\n",
       "    <tr>\n",
       "      <th>45</th>\n",
       "      <td>65.007964</td>\n",
       "      <td>27.602608</td>\n",
       "      <td>50.947519</td>\n",
       "      <td>37.405357</td>\n",
       "      <td>116.581109</td>\n",
       "      <td>7.015978</td>\n",
       "      <td>Type_S</td>\n",
       "    </tr>\n",
       "    <tr>\n",
       "      <th>46</th>\n",
       "      <td>65.013773</td>\n",
       "      <td>9.838262</td>\n",
       "      <td>57.735837</td>\n",
       "      <td>55.175511</td>\n",
       "      <td>94.738525</td>\n",
       "      <td>49.696955</td>\n",
       "      <td>Type_S</td>\n",
       "    </tr>\n",
       "    <tr>\n",
       "      <th>47</th>\n",
       "      <td>78.425951</td>\n",
       "      <td>33.425951</td>\n",
       "      <td>76.277439</td>\n",
       "      <td>45.000000</td>\n",
       "      <td>138.554111</td>\n",
       "      <td>77.155172</td>\n",
       "      <td>Type_S</td>\n",
       "    </tr>\n",
       "    <tr>\n",
       "      <th>48</th>\n",
       "      <td>63.172987</td>\n",
       "      <td>6.330911</td>\n",
       "      <td>63.000000</td>\n",
       "      <td>56.842076</td>\n",
       "      <td>110.644021</td>\n",
       "      <td>42.608076</td>\n",
       "      <td>Type_S</td>\n",
       "    </tr>\n",
       "    <tr>\n",
       "      <th>49</th>\n",
       "      <td>68.613001</td>\n",
       "      <td>15.082235</td>\n",
       "      <td>63.014696</td>\n",
       "      <td>53.530766</td>\n",
       "      <td>123.431174</td>\n",
       "      <td>39.497987</td>\n",
       "      <td>Type_S</td>\n",
       "    </tr>\n",
       "  </tbody>\n",
       "</table>\n",
       "</div>"
      ],
      "text/plain": [
       "    P_incidence     P_tilt    L_angle    S_slope    P_radius    S_Degree  \\\n",
       "0     74.377678  32.053104  78.772013  42.324573  143.560690   56.125906   \n",
       "1     89.680567  32.704435  83.130732  56.976132  129.955476   92.027277   \n",
       "2     44.529051   9.433234  52.000000  35.095817  134.711772   29.106575   \n",
       "3     77.690577  21.380645  64.429442  56.309932  114.818751   26.931841   \n",
       "4     76.147212  21.936186  82.961502  54.211027  123.932010   10.431972   \n",
       "5     83.933009  41.286305  62.000000  42.646703  115.012334   26.588100   \n",
       "6     78.491730  22.181798  60.000000  56.309932  118.530327   27.383213   \n",
       "7     75.649731  19.339799  64.148685  56.309932   95.903629   69.551303   \n",
       "8     72.076278  18.946176  51.000000  53.130102  114.213013    1.010041   \n",
       "9     58.599529  -0.261499  51.500000  58.861028  102.042812   28.059697   \n",
       "10    72.560702  17.385191  52.000000  55.175511  119.193724   32.108537   \n",
       "11    86.900794  32.928168  47.794347  53.972627  135.075364  101.719092   \n",
       "12    84.974132  33.021175  60.859873  51.952957  125.659534   74.333409   \n",
       "13    55.512212  20.095157  44.000000  35.417055  122.648753   34.552946   \n",
       "14    72.222334  23.077711  91.000000  49.144624  137.736655   56.804093   \n",
       "15    70.221452  39.822724  68.118403  30.398728  148.525562  145.378143   \n",
       "16    86.753609  36.043016  69.221045  50.710593  139.414504  110.860782   \n",
       "17    58.782548   7.667044  53.338941  51.115504   98.501157   51.584125   \n",
       "18    67.412538  17.442797  60.144640  49.969741  111.123970   33.157646   \n",
       "19    47.744679  12.089351  39.000000  35.655328  117.512004   21.682401   \n",
       "20    77.106571  30.469994  69.480628  46.636577  112.151600   70.759083   \n",
       "21    74.005541  21.122402  57.379502  52.883139  120.205963   74.555166   \n",
       "22    88.623908  29.089453  47.564262  59.534455  121.764780   51.805899   \n",
       "23    81.104100  24.794168  77.887020  56.309932  151.839857   65.214616   \n",
       "24    76.326002  42.396204  57.200000  33.929797  124.267007   50.127457   \n",
       "25    45.443750   9.906072  45.000000  35.537678  163.071041   20.315315   \n",
       "26    59.785265  17.879323  59.206461  41.905942  119.319111   22.123869   \n",
       "27    44.914149  10.218996  44.630914  34.695154  130.075660   37.364540   \n",
       "28    56.605771  16.800200  42.000000  39.805571  127.294522   24.018575   \n",
       "29    71.186811  23.896201  43.696665  47.290610  119.864938   27.283985   \n",
       "30    81.656032  28.748869  58.232821  52.907163  114.769856   30.609148   \n",
       "31    70.952728  20.159931  62.859109  50.792797  116.177932   32.522331   \n",
       "32    85.352315  15.844910  71.668660  69.507405  124.419787   76.020603   \n",
       "33    58.101935  14.837639  79.649838  43.264295  113.587655   50.237878   \n",
       "34    94.174822  15.380770  67.705721  78.794052  114.890113   53.255220   \n",
       "35    57.522356  33.647075  50.909858  23.875281  140.981712  148.753711   \n",
       "36    96.657315  19.461581  90.211498  77.195734  120.673041   64.080998   \n",
       "37    74.720746  19.756942  82.735360  54.963804  109.356594   33.306067   \n",
       "38    77.655119  22.432950  93.892779  55.222169  123.055707   61.211187   \n",
       "39    58.521623  13.922286  41.467855  44.599337  115.514798   30.387984   \n",
       "40    84.585607  30.361685  65.479486  54.223922  108.010218   25.118478   \n",
       "41    79.938570  18.774071  63.311835  61.164499  114.787107   38.538741   \n",
       "42    70.399308  13.469986  61.200000  56.929322  102.337524   25.538429   \n",
       "43    49.782121   6.466805  53.000000  43.315316  110.864783   25.335647   \n",
       "44    77.409333  29.396545  63.232302  48.012788  118.450731   93.563737   \n",
       "45    65.007964  27.602608  50.947519  37.405357  116.581109    7.015978   \n",
       "46    65.013773   9.838262  57.735837  55.175511   94.738525   49.696955   \n",
       "47    78.425951  33.425951  76.277439  45.000000  138.554111   77.155172   \n",
       "48    63.172987   6.330911  63.000000  56.842076  110.644021   42.608076   \n",
       "49    68.613001  15.082235  63.014696  53.530766  123.431174   39.497987   \n",
       "\n",
       "     Class  \n",
       "0   Type_S  \n",
       "1   Type_S  \n",
       "2   Type_S  \n",
       "3   Type_S  \n",
       "4   Type_S  \n",
       "5   Type_S  \n",
       "6   Type_S  \n",
       "7   Type_S  \n",
       "8   Type_S  \n",
       "9   Type_S  \n",
       "10  Type_S  \n",
       "11  Type_S  \n",
       "12  Type_S  \n",
       "13  Type_S  \n",
       "14  Type_S  \n",
       "15  Type_S  \n",
       "16  Type_S  \n",
       "17  Type_S  \n",
       "18  Type_S  \n",
       "19  Type_S  \n",
       "20  Type_S  \n",
       "21  Type_S  \n",
       "22  Type_S  \n",
       "23  Type_S  \n",
       "24  Type_S  \n",
       "25  Type_S  \n",
       "26  Type_S  \n",
       "27  Type_S  \n",
       "28  Type_S  \n",
       "29  Type_S  \n",
       "30  Type_S  \n",
       "31  Type_S  \n",
       "32  Type_S  \n",
       "33  Type_S  \n",
       "34  Type_S  \n",
       "35  Type_S  \n",
       "36  Type_S  \n",
       "37  Type_S  \n",
       "38  Type_S  \n",
       "39  Type_S  \n",
       "40  Type_S  \n",
       "41  Type_S  \n",
       "42  Type_S  \n",
       "43  Type_S  \n",
       "44  Type_S  \n",
       "45  Type_S  \n",
       "46  Type_S  \n",
       "47  Type_S  \n",
       "48  Type_S  \n",
       "49  Type_S  "
      ]
     },
     "execution_count": 7,
     "metadata": {},
     "output_type": "execute_result"
    }
   ],
   "source": [
    "df.head(50)"
   ]
  },
  {
   "cell_type": "code",
   "execution_count": 8,
   "metadata": {},
   "outputs": [
    {
     "data": {
      "text/html": [
       "<div>\n",
       "<style scoped>\n",
       "    .dataframe tbody tr th:only-of-type {\n",
       "        vertical-align: middle;\n",
       "    }\n",
       "\n",
       "    .dataframe tbody tr th {\n",
       "        vertical-align: top;\n",
       "    }\n",
       "\n",
       "    .dataframe thead th {\n",
       "        text-align: right;\n",
       "    }\n",
       "</style>\n",
       "<table border=\"1\" class=\"dataframe\">\n",
       "  <thead>\n",
       "    <tr style=\"text-align: right;\">\n",
       "      <th></th>\n",
       "      <th>P_incidence</th>\n",
       "      <th>P_tilt</th>\n",
       "      <th>L_angle</th>\n",
       "      <th>S_slope</th>\n",
       "      <th>P_radius</th>\n",
       "      <th>S_Degree</th>\n",
       "      <th>Class</th>\n",
       "    </tr>\n",
       "  </thead>\n",
       "  <tbody>\n",
       "    <tr>\n",
       "      <th>260</th>\n",
       "      <td>54.142408</td>\n",
       "      <td>11.935110</td>\n",
       "      <td>43.000000</td>\n",
       "      <td>42.207298</td>\n",
       "      <td>122.209083</td>\n",
       "      <td>0.153549</td>\n",
       "      <td>Normal</td>\n",
       "    </tr>\n",
       "    <tr>\n",
       "      <th>261</th>\n",
       "      <td>74.976021</td>\n",
       "      <td>14.921705</td>\n",
       "      <td>53.730072</td>\n",
       "      <td>60.054317</td>\n",
       "      <td>105.645400</td>\n",
       "      <td>1.594748</td>\n",
       "      <td>Normal</td>\n",
       "    </tr>\n",
       "    <tr>\n",
       "      <th>262</th>\n",
       "      <td>42.517272</td>\n",
       "      <td>14.375671</td>\n",
       "      <td>25.323565</td>\n",
       "      <td>28.141601</td>\n",
       "      <td>128.905689</td>\n",
       "      <td>0.757020</td>\n",
       "      <td>Normal</td>\n",
       "    </tr>\n",
       "    <tr>\n",
       "      <th>263</th>\n",
       "      <td>33.788843</td>\n",
       "      <td>3.675110</td>\n",
       "      <td>25.500000</td>\n",
       "      <td>30.113733</td>\n",
       "      <td>128.325356</td>\n",
       "      <td>-1.776111</td>\n",
       "      <td>Normal</td>\n",
       "    </tr>\n",
       "    <tr>\n",
       "      <th>264</th>\n",
       "      <td>54.503685</td>\n",
       "      <td>6.819910</td>\n",
       "      <td>47.000000</td>\n",
       "      <td>47.683775</td>\n",
       "      <td>111.791172</td>\n",
       "      <td>-4.406769</td>\n",
       "      <td>Normal</td>\n",
       "    </tr>\n",
       "    <tr>\n",
       "      <th>265</th>\n",
       "      <td>48.170746</td>\n",
       "      <td>9.594217</td>\n",
       "      <td>39.710920</td>\n",
       "      <td>38.576530</td>\n",
       "      <td>135.623310</td>\n",
       "      <td>5.360051</td>\n",
       "      <td>Normal</td>\n",
       "    </tr>\n",
       "    <tr>\n",
       "      <th>266</th>\n",
       "      <td>46.374088</td>\n",
       "      <td>10.215902</td>\n",
       "      <td>42.700000</td>\n",
       "      <td>36.158185</td>\n",
       "      <td>121.247657</td>\n",
       "      <td>-0.542022</td>\n",
       "      <td>Normal</td>\n",
       "    </tr>\n",
       "    <tr>\n",
       "      <th>267</th>\n",
       "      <td>52.862214</td>\n",
       "      <td>9.410372</td>\n",
       "      <td>46.988052</td>\n",
       "      <td>43.451842</td>\n",
       "      <td>123.091240</td>\n",
       "      <td>1.856659</td>\n",
       "      <td>Normal</td>\n",
       "    </tr>\n",
       "    <tr>\n",
       "      <th>268</th>\n",
       "      <td>57.145851</td>\n",
       "      <td>16.489091</td>\n",
       "      <td>42.842148</td>\n",
       "      <td>40.656760</td>\n",
       "      <td>113.806178</td>\n",
       "      <td>5.015186</td>\n",
       "      <td>Normal</td>\n",
       "    </tr>\n",
       "    <tr>\n",
       "      <th>269</th>\n",
       "      <td>37.140150</td>\n",
       "      <td>16.481240</td>\n",
       "      <td>24.000000</td>\n",
       "      <td>20.658910</td>\n",
       "      <td>125.014361</td>\n",
       "      <td>7.366425</td>\n",
       "      <td>Normal</td>\n",
       "    </tr>\n",
       "    <tr>\n",
       "      <th>270</th>\n",
       "      <td>51.311771</td>\n",
       "      <td>8.875541</td>\n",
       "      <td>57.000000</td>\n",
       "      <td>42.436230</td>\n",
       "      <td>126.472258</td>\n",
       "      <td>-2.144044</td>\n",
       "      <td>Normal</td>\n",
       "    </tr>\n",
       "    <tr>\n",
       "      <th>271</th>\n",
       "      <td>42.515610</td>\n",
       "      <td>16.541216</td>\n",
       "      <td>42.000000</td>\n",
       "      <td>25.974394</td>\n",
       "      <td>120.631941</td>\n",
       "      <td>7.876731</td>\n",
       "      <td>Normal</td>\n",
       "    </tr>\n",
       "    <tr>\n",
       "      <th>272</th>\n",
       "      <td>39.358705</td>\n",
       "      <td>7.011262</td>\n",
       "      <td>37.000000</td>\n",
       "      <td>32.347443</td>\n",
       "      <td>117.818760</td>\n",
       "      <td>1.904048</td>\n",
       "      <td>Normal</td>\n",
       "    </tr>\n",
       "    <tr>\n",
       "      <th>273</th>\n",
       "      <td>35.877571</td>\n",
       "      <td>1.112374</td>\n",
       "      <td>43.457257</td>\n",
       "      <td>34.765197</td>\n",
       "      <td>126.923906</td>\n",
       "      <td>-1.632238</td>\n",
       "      <td>Normal</td>\n",
       "    </tr>\n",
       "    <tr>\n",
       "      <th>274</th>\n",
       "      <td>43.191915</td>\n",
       "      <td>9.976664</td>\n",
       "      <td>28.938149</td>\n",
       "      <td>33.215251</td>\n",
       "      <td>123.467400</td>\n",
       "      <td>1.741018</td>\n",
       "      <td>Normal</td>\n",
       "    </tr>\n",
       "    <tr>\n",
       "      <th>275</th>\n",
       "      <td>67.289712</td>\n",
       "      <td>16.717514</td>\n",
       "      <td>51.000000</td>\n",
       "      <td>50.572198</td>\n",
       "      <td>137.591778</td>\n",
       "      <td>4.960344</td>\n",
       "      <td>Normal</td>\n",
       "    </tr>\n",
       "    <tr>\n",
       "      <th>276</th>\n",
       "      <td>51.325464</td>\n",
       "      <td>13.631223</td>\n",
       "      <td>33.258578</td>\n",
       "      <td>37.694240</td>\n",
       "      <td>131.306122</td>\n",
       "      <td>1.788870</td>\n",
       "      <td>Normal</td>\n",
       "    </tr>\n",
       "    <tr>\n",
       "      <th>277</th>\n",
       "      <td>65.756348</td>\n",
       "      <td>13.206926</td>\n",
       "      <td>44.000000</td>\n",
       "      <td>52.549422</td>\n",
       "      <td>129.393573</td>\n",
       "      <td>-1.982120</td>\n",
       "      <td>Normal</td>\n",
       "    </tr>\n",
       "    <tr>\n",
       "      <th>278</th>\n",
       "      <td>40.413366</td>\n",
       "      <td>-1.329412</td>\n",
       "      <td>30.982768</td>\n",
       "      <td>41.742778</td>\n",
       "      <td>119.335655</td>\n",
       "      <td>-6.173675</td>\n",
       "      <td>Normal</td>\n",
       "    </tr>\n",
       "    <tr>\n",
       "      <th>279</th>\n",
       "      <td>48.801909</td>\n",
       "      <td>18.017762</td>\n",
       "      <td>52.000000</td>\n",
       "      <td>30.784147</td>\n",
       "      <td>139.150407</td>\n",
       "      <td>10.442862</td>\n",
       "      <td>Normal</td>\n",
       "    </tr>\n",
       "    <tr>\n",
       "      <th>280</th>\n",
       "      <td>50.086153</td>\n",
       "      <td>13.430044</td>\n",
       "      <td>34.457541</td>\n",
       "      <td>36.656108</td>\n",
       "      <td>119.134622</td>\n",
       "      <td>3.089484</td>\n",
       "      <td>Normal</td>\n",
       "    </tr>\n",
       "    <tr>\n",
       "      <th>281</th>\n",
       "      <td>64.261507</td>\n",
       "      <td>14.497866</td>\n",
       "      <td>43.902504</td>\n",
       "      <td>49.763642</td>\n",
       "      <td>115.388268</td>\n",
       "      <td>5.951454</td>\n",
       "      <td>Normal</td>\n",
       "    </tr>\n",
       "    <tr>\n",
       "      <th>282</th>\n",
       "      <td>53.683380</td>\n",
       "      <td>13.447022</td>\n",
       "      <td>41.584297</td>\n",
       "      <td>40.236358</td>\n",
       "      <td>113.913703</td>\n",
       "      <td>2.737035</td>\n",
       "      <td>Normal</td>\n",
       "    </tr>\n",
       "    <tr>\n",
       "      <th>283</th>\n",
       "      <td>48.995958</td>\n",
       "      <td>13.113820</td>\n",
       "      <td>51.873520</td>\n",
       "      <td>35.882137</td>\n",
       "      <td>126.398188</td>\n",
       "      <td>0.535472</td>\n",
       "      <td>Normal</td>\n",
       "    </tr>\n",
       "    <tr>\n",
       "      <th>284</th>\n",
       "      <td>59.167612</td>\n",
       "      <td>14.562749</td>\n",
       "      <td>43.199158</td>\n",
       "      <td>44.604863</td>\n",
       "      <td>121.035642</td>\n",
       "      <td>2.830504</td>\n",
       "      <td>Normal</td>\n",
       "    </tr>\n",
       "    <tr>\n",
       "      <th>285</th>\n",
       "      <td>67.804694</td>\n",
       "      <td>16.550662</td>\n",
       "      <td>43.256802</td>\n",
       "      <td>51.254033</td>\n",
       "      <td>119.685645</td>\n",
       "      <td>4.867540</td>\n",
       "      <td>Normal</td>\n",
       "    </tr>\n",
       "    <tr>\n",
       "      <th>286</th>\n",
       "      <td>61.734875</td>\n",
       "      <td>17.114312</td>\n",
       "      <td>46.900000</td>\n",
       "      <td>44.620563</td>\n",
       "      <td>120.920200</td>\n",
       "      <td>3.087726</td>\n",
       "      <td>Normal</td>\n",
       "    </tr>\n",
       "    <tr>\n",
       "      <th>287</th>\n",
       "      <td>33.041688</td>\n",
       "      <td>-0.324678</td>\n",
       "      <td>19.071075</td>\n",
       "      <td>33.366366</td>\n",
       "      <td>120.388611</td>\n",
       "      <td>9.354365</td>\n",
       "      <td>Normal</td>\n",
       "    </tr>\n",
       "    <tr>\n",
       "      <th>288</th>\n",
       "      <td>74.565015</td>\n",
       "      <td>15.724320</td>\n",
       "      <td>58.618582</td>\n",
       "      <td>58.840695</td>\n",
       "      <td>105.417304</td>\n",
       "      <td>0.599247</td>\n",
       "      <td>Normal</td>\n",
       "    </tr>\n",
       "    <tr>\n",
       "      <th>289</th>\n",
       "      <td>44.430701</td>\n",
       "      <td>14.174264</td>\n",
       "      <td>32.243495</td>\n",
       "      <td>30.256437</td>\n",
       "      <td>131.717613</td>\n",
       "      <td>-3.604255</td>\n",
       "      <td>Normal</td>\n",
       "    </tr>\n",
       "    <tr>\n",
       "      <th>290</th>\n",
       "      <td>36.422485</td>\n",
       "      <td>13.879424</td>\n",
       "      <td>20.242562</td>\n",
       "      <td>22.543061</td>\n",
       "      <td>126.076861</td>\n",
       "      <td>0.179717</td>\n",
       "      <td>Normal</td>\n",
       "    </tr>\n",
       "    <tr>\n",
       "      <th>291</th>\n",
       "      <td>51.079833</td>\n",
       "      <td>14.209935</td>\n",
       "      <td>35.951229</td>\n",
       "      <td>36.869898</td>\n",
       "      <td>115.803711</td>\n",
       "      <td>6.905090</td>\n",
       "      <td>Normal</td>\n",
       "    </tr>\n",
       "    <tr>\n",
       "      <th>292</th>\n",
       "      <td>34.756738</td>\n",
       "      <td>2.631740</td>\n",
       "      <td>29.504381</td>\n",
       "      <td>32.124998</td>\n",
       "      <td>127.139849</td>\n",
       "      <td>-0.460894</td>\n",
       "      <td>Normal</td>\n",
       "    </tr>\n",
       "    <tr>\n",
       "      <th>293</th>\n",
       "      <td>48.902904</td>\n",
       "      <td>5.587589</td>\n",
       "      <td>55.500000</td>\n",
       "      <td>43.315316</td>\n",
       "      <td>137.108289</td>\n",
       "      <td>19.854759</td>\n",
       "      <td>Normal</td>\n",
       "    </tr>\n",
       "    <tr>\n",
       "      <th>294</th>\n",
       "      <td>46.236399</td>\n",
       "      <td>10.062770</td>\n",
       "      <td>37.000000</td>\n",
       "      <td>36.173629</td>\n",
       "      <td>128.063620</td>\n",
       "      <td>-5.100053</td>\n",
       "      <td>Normal</td>\n",
       "    </tr>\n",
       "    <tr>\n",
       "      <th>295</th>\n",
       "      <td>46.426366</td>\n",
       "      <td>6.620795</td>\n",
       "      <td>48.100000</td>\n",
       "      <td>39.805571</td>\n",
       "      <td>130.350096</td>\n",
       "      <td>2.449382</td>\n",
       "      <td>Normal</td>\n",
       "    </tr>\n",
       "    <tr>\n",
       "      <th>296</th>\n",
       "      <td>39.656902</td>\n",
       "      <td>16.208839</td>\n",
       "      <td>36.674857</td>\n",
       "      <td>23.448063</td>\n",
       "      <td>131.922009</td>\n",
       "      <td>-4.968980</td>\n",
       "      <td>Normal</td>\n",
       "    </tr>\n",
       "    <tr>\n",
       "      <th>297</th>\n",
       "      <td>45.575482</td>\n",
       "      <td>18.759135</td>\n",
       "      <td>33.774143</td>\n",
       "      <td>26.816347</td>\n",
       "      <td>116.797007</td>\n",
       "      <td>3.131910</td>\n",
       "      <td>Normal</td>\n",
       "    </tr>\n",
       "    <tr>\n",
       "      <th>298</th>\n",
       "      <td>66.507179</td>\n",
       "      <td>20.897672</td>\n",
       "      <td>31.727471</td>\n",
       "      <td>45.609507</td>\n",
       "      <td>128.902905</td>\n",
       "      <td>1.517203</td>\n",
       "      <td>Normal</td>\n",
       "    </tr>\n",
       "    <tr>\n",
       "      <th>299</th>\n",
       "      <td>82.905351</td>\n",
       "      <td>29.894119</td>\n",
       "      <td>58.250542</td>\n",
       "      <td>53.011232</td>\n",
       "      <td>110.708958</td>\n",
       "      <td>6.079338</td>\n",
       "      <td>Normal</td>\n",
       "    </tr>\n",
       "    <tr>\n",
       "      <th>300</th>\n",
       "      <td>50.676677</td>\n",
       "      <td>6.461501</td>\n",
       "      <td>35.000000</td>\n",
       "      <td>44.215175</td>\n",
       "      <td>116.587970</td>\n",
       "      <td>-0.214711</td>\n",
       "      <td>Normal</td>\n",
       "    </tr>\n",
       "    <tr>\n",
       "      <th>301</th>\n",
       "      <td>89.014875</td>\n",
       "      <td>26.075981</td>\n",
       "      <td>69.021259</td>\n",
       "      <td>62.938894</td>\n",
       "      <td>111.481075</td>\n",
       "      <td>6.061508</td>\n",
       "      <td>Normal</td>\n",
       "    </tr>\n",
       "    <tr>\n",
       "      <th>302</th>\n",
       "      <td>54.600316</td>\n",
       "      <td>21.488974</td>\n",
       "      <td>29.360216</td>\n",
       "      <td>33.111342</td>\n",
       "      <td>118.343321</td>\n",
       "      <td>-1.471067</td>\n",
       "      <td>Normal</td>\n",
       "    </tr>\n",
       "    <tr>\n",
       "      <th>303</th>\n",
       "      <td>34.382299</td>\n",
       "      <td>2.062683</td>\n",
       "      <td>32.390820</td>\n",
       "      <td>32.319617</td>\n",
       "      <td>128.300199</td>\n",
       "      <td>-3.365516</td>\n",
       "      <td>Normal</td>\n",
       "    </tr>\n",
       "    <tr>\n",
       "      <th>304</th>\n",
       "      <td>45.075450</td>\n",
       "      <td>12.306951</td>\n",
       "      <td>44.583177</td>\n",
       "      <td>32.768499</td>\n",
       "      <td>147.894637</td>\n",
       "      <td>-8.941709</td>\n",
       "      <td>Normal</td>\n",
       "    </tr>\n",
       "    <tr>\n",
       "      <th>305</th>\n",
       "      <td>47.903565</td>\n",
       "      <td>13.616688</td>\n",
       "      <td>36.000000</td>\n",
       "      <td>34.286877</td>\n",
       "      <td>117.449062</td>\n",
       "      <td>-4.245395</td>\n",
       "      <td>Normal</td>\n",
       "    </tr>\n",
       "    <tr>\n",
       "      <th>306</th>\n",
       "      <td>53.936748</td>\n",
       "      <td>20.721496</td>\n",
       "      <td>29.220534</td>\n",
       "      <td>33.215251</td>\n",
       "      <td>114.365845</td>\n",
       "      <td>-0.421010</td>\n",
       "      <td>Normal</td>\n",
       "    </tr>\n",
       "    <tr>\n",
       "      <th>307</th>\n",
       "      <td>61.446597</td>\n",
       "      <td>22.694968</td>\n",
       "      <td>46.170347</td>\n",
       "      <td>38.751628</td>\n",
       "      <td>125.670725</td>\n",
       "      <td>-2.707880</td>\n",
       "      <td>Normal</td>\n",
       "    </tr>\n",
       "    <tr>\n",
       "      <th>308</th>\n",
       "      <td>45.252792</td>\n",
       "      <td>8.693157</td>\n",
       "      <td>41.583126</td>\n",
       "      <td>36.559635</td>\n",
       "      <td>118.545842</td>\n",
       "      <td>0.214750</td>\n",
       "      <td>Normal</td>\n",
       "    </tr>\n",
       "    <tr>\n",
       "      <th>309</th>\n",
       "      <td>33.841641</td>\n",
       "      <td>5.073991</td>\n",
       "      <td>36.641233</td>\n",
       "      <td>28.767649</td>\n",
       "      <td>123.945244</td>\n",
       "      <td>-0.199249</td>\n",
       "      <td>Normal</td>\n",
       "    </tr>\n",
       "  </tbody>\n",
       "</table>\n",
       "</div>"
      ],
      "text/plain": [
       "     P_incidence     P_tilt    L_angle    S_slope    P_radius   S_Degree  \\\n",
       "260    54.142408  11.935110  43.000000  42.207298  122.209083   0.153549   \n",
       "261    74.976021  14.921705  53.730072  60.054317  105.645400   1.594748   \n",
       "262    42.517272  14.375671  25.323565  28.141601  128.905689   0.757020   \n",
       "263    33.788843   3.675110  25.500000  30.113733  128.325356  -1.776111   \n",
       "264    54.503685   6.819910  47.000000  47.683775  111.791172  -4.406769   \n",
       "265    48.170746   9.594217  39.710920  38.576530  135.623310   5.360051   \n",
       "266    46.374088  10.215902  42.700000  36.158185  121.247657  -0.542022   \n",
       "267    52.862214   9.410372  46.988052  43.451842  123.091240   1.856659   \n",
       "268    57.145851  16.489091  42.842148  40.656760  113.806178   5.015186   \n",
       "269    37.140150  16.481240  24.000000  20.658910  125.014361   7.366425   \n",
       "270    51.311771   8.875541  57.000000  42.436230  126.472258  -2.144044   \n",
       "271    42.515610  16.541216  42.000000  25.974394  120.631941   7.876731   \n",
       "272    39.358705   7.011262  37.000000  32.347443  117.818760   1.904048   \n",
       "273    35.877571   1.112374  43.457257  34.765197  126.923906  -1.632238   \n",
       "274    43.191915   9.976664  28.938149  33.215251  123.467400   1.741018   \n",
       "275    67.289712  16.717514  51.000000  50.572198  137.591778   4.960344   \n",
       "276    51.325464  13.631223  33.258578  37.694240  131.306122   1.788870   \n",
       "277    65.756348  13.206926  44.000000  52.549422  129.393573  -1.982120   \n",
       "278    40.413366  -1.329412  30.982768  41.742778  119.335655  -6.173675   \n",
       "279    48.801909  18.017762  52.000000  30.784147  139.150407  10.442862   \n",
       "280    50.086153  13.430044  34.457541  36.656108  119.134622   3.089484   \n",
       "281    64.261507  14.497866  43.902504  49.763642  115.388268   5.951454   \n",
       "282    53.683380  13.447022  41.584297  40.236358  113.913703   2.737035   \n",
       "283    48.995958  13.113820  51.873520  35.882137  126.398188   0.535472   \n",
       "284    59.167612  14.562749  43.199158  44.604863  121.035642   2.830504   \n",
       "285    67.804694  16.550662  43.256802  51.254033  119.685645   4.867540   \n",
       "286    61.734875  17.114312  46.900000  44.620563  120.920200   3.087726   \n",
       "287    33.041688  -0.324678  19.071075  33.366366  120.388611   9.354365   \n",
       "288    74.565015  15.724320  58.618582  58.840695  105.417304   0.599247   \n",
       "289    44.430701  14.174264  32.243495  30.256437  131.717613  -3.604255   \n",
       "290    36.422485  13.879424  20.242562  22.543061  126.076861   0.179717   \n",
       "291    51.079833  14.209935  35.951229  36.869898  115.803711   6.905090   \n",
       "292    34.756738   2.631740  29.504381  32.124998  127.139849  -0.460894   \n",
       "293    48.902904   5.587589  55.500000  43.315316  137.108289  19.854759   \n",
       "294    46.236399  10.062770  37.000000  36.173629  128.063620  -5.100053   \n",
       "295    46.426366   6.620795  48.100000  39.805571  130.350096   2.449382   \n",
       "296    39.656902  16.208839  36.674857  23.448063  131.922009  -4.968980   \n",
       "297    45.575482  18.759135  33.774143  26.816347  116.797007   3.131910   \n",
       "298    66.507179  20.897672  31.727471  45.609507  128.902905   1.517203   \n",
       "299    82.905351  29.894119  58.250542  53.011232  110.708958   6.079338   \n",
       "300    50.676677   6.461501  35.000000  44.215175  116.587970  -0.214711   \n",
       "301    89.014875  26.075981  69.021259  62.938894  111.481075   6.061508   \n",
       "302    54.600316  21.488974  29.360216  33.111342  118.343321  -1.471067   \n",
       "303    34.382299   2.062683  32.390820  32.319617  128.300199  -3.365516   \n",
       "304    45.075450  12.306951  44.583177  32.768499  147.894637  -8.941709   \n",
       "305    47.903565  13.616688  36.000000  34.286877  117.449062  -4.245395   \n",
       "306    53.936748  20.721496  29.220534  33.215251  114.365845  -0.421010   \n",
       "307    61.446597  22.694968  46.170347  38.751628  125.670725  -2.707880   \n",
       "308    45.252792   8.693157  41.583126  36.559635  118.545842   0.214750   \n",
       "309    33.841641   5.073991  36.641233  28.767649  123.945244  -0.199249   \n",
       "\n",
       "      Class  \n",
       "260  Normal  \n",
       "261  Normal  \n",
       "262  Normal  \n",
       "263  Normal  \n",
       "264  Normal  \n",
       "265  Normal  \n",
       "266  Normal  \n",
       "267  Normal  \n",
       "268  Normal  \n",
       "269  Normal  \n",
       "270  Normal  \n",
       "271  Normal  \n",
       "272  Normal  \n",
       "273  Normal  \n",
       "274  Normal  \n",
       "275  Normal  \n",
       "276  Normal  \n",
       "277  Normal  \n",
       "278  Normal  \n",
       "279  Normal  \n",
       "280  Normal  \n",
       "281  Normal  \n",
       "282  Normal  \n",
       "283  Normal  \n",
       "284  Normal  \n",
       "285  Normal  \n",
       "286  Normal  \n",
       "287  Normal  \n",
       "288  Normal  \n",
       "289  Normal  \n",
       "290  Normal  \n",
       "291  Normal  \n",
       "292  Normal  \n",
       "293  Normal  \n",
       "294  Normal  \n",
       "295  Normal  \n",
       "296  Normal  \n",
       "297  Normal  \n",
       "298  Normal  \n",
       "299  Normal  \n",
       "300  Normal  \n",
       "301  Normal  \n",
       "302  Normal  \n",
       "303  Normal  \n",
       "304  Normal  \n",
       "305  Normal  \n",
       "306  Normal  \n",
       "307  Normal  \n",
       "308  Normal  \n",
       "309  Normal  "
      ]
     },
     "execution_count": 8,
     "metadata": {},
     "output_type": "execute_result"
    }
   ],
   "source": [
    "df.tail(50)"
   ]
  },
  {
   "cell_type": "code",
   "execution_count": 9,
   "metadata": {},
   "outputs": [
    {
     "data": {
      "text/plain": [
       "pandas.core.series.Series"
      ]
     },
     "execution_count": 9,
     "metadata": {},
     "output_type": "execute_result"
    }
   ],
   "source": [
    "type(df['Class'])"
   ]
  },
  {
   "cell_type": "code",
   "execution_count": 10,
   "metadata": {},
   "outputs": [],
   "source": [
    "df['Class'].replace('Nrmal','Normal',inplace=True)#cleaning and correcting the data of each attribute"
   ]
  },
  {
   "cell_type": "code",
   "execution_count": 11,
   "metadata": {},
   "outputs": [
    {
     "data": {
      "text/html": [
       "<div>\n",
       "<style scoped>\n",
       "    .dataframe tbody tr th:only-of-type {\n",
       "        vertical-align: middle;\n",
       "    }\n",
       "\n",
       "    .dataframe tbody tr th {\n",
       "        vertical-align: top;\n",
       "    }\n",
       "\n",
       "    .dataframe thead th {\n",
       "        text-align: right;\n",
       "    }\n",
       "</style>\n",
       "<table border=\"1\" class=\"dataframe\">\n",
       "  <thead>\n",
       "    <tr style=\"text-align: right;\">\n",
       "      <th></th>\n",
       "      <th>P_incidence</th>\n",
       "      <th>P_tilt</th>\n",
       "      <th>L_angle</th>\n",
       "      <th>S_slope</th>\n",
       "      <th>P_radius</th>\n",
       "      <th>S_Degree</th>\n",
       "      <th>Class</th>\n",
       "    </tr>\n",
       "  </thead>\n",
       "  <tbody>\n",
       "    <tr>\n",
       "      <th>220</th>\n",
       "      <td>44.489275</td>\n",
       "      <td>21.786433</td>\n",
       "      <td>31.474154</td>\n",
       "      <td>22.702842</td>\n",
       "      <td>113.778494</td>\n",
       "      <td>-0.284129</td>\n",
       "      <td>Normal</td>\n",
       "    </tr>\n",
       "    <tr>\n",
       "      <th>221</th>\n",
       "      <td>54.950970</td>\n",
       "      <td>5.865353</td>\n",
       "      <td>53.000000</td>\n",
       "      <td>49.085617</td>\n",
       "      <td>126.970328</td>\n",
       "      <td>-0.631603</td>\n",
       "      <td>Normal</td>\n",
       "    </tr>\n",
       "    <tr>\n",
       "      <th>222</th>\n",
       "      <td>56.103774</td>\n",
       "      <td>13.106307</td>\n",
       "      <td>62.637020</td>\n",
       "      <td>42.997467</td>\n",
       "      <td>116.228503</td>\n",
       "      <td>31.172767</td>\n",
       "      <td>Normal</td>\n",
       "    </tr>\n",
       "    <tr>\n",
       "      <th>223</th>\n",
       "      <td>69.398818</td>\n",
       "      <td>18.898407</td>\n",
       "      <td>75.966361</td>\n",
       "      <td>50.500411</td>\n",
       "      <td>103.582540</td>\n",
       "      <td>-0.443661</td>\n",
       "      <td>Normal</td>\n",
       "    </tr>\n",
       "    <tr>\n",
       "      <th>224</th>\n",
       "      <td>89.834676</td>\n",
       "      <td>22.639217</td>\n",
       "      <td>90.563461</td>\n",
       "      <td>67.195460</td>\n",
       "      <td>100.501192</td>\n",
       "      <td>3.040973</td>\n",
       "      <td>Normal</td>\n",
       "    </tr>\n",
       "    <tr>\n",
       "      <th>...</th>\n",
       "      <td>...</td>\n",
       "      <td>...</td>\n",
       "      <td>...</td>\n",
       "      <td>...</td>\n",
       "      <td>...</td>\n",
       "      <td>...</td>\n",
       "      <td>...</td>\n",
       "    </tr>\n",
       "    <tr>\n",
       "      <th>305</th>\n",
       "      <td>47.903565</td>\n",
       "      <td>13.616688</td>\n",
       "      <td>36.000000</td>\n",
       "      <td>34.286877</td>\n",
       "      <td>117.449062</td>\n",
       "      <td>-4.245395</td>\n",
       "      <td>Normal</td>\n",
       "    </tr>\n",
       "    <tr>\n",
       "      <th>306</th>\n",
       "      <td>53.936748</td>\n",
       "      <td>20.721496</td>\n",
       "      <td>29.220534</td>\n",
       "      <td>33.215251</td>\n",
       "      <td>114.365845</td>\n",
       "      <td>-0.421010</td>\n",
       "      <td>Normal</td>\n",
       "    </tr>\n",
       "    <tr>\n",
       "      <th>307</th>\n",
       "      <td>61.446597</td>\n",
       "      <td>22.694968</td>\n",
       "      <td>46.170347</td>\n",
       "      <td>38.751628</td>\n",
       "      <td>125.670725</td>\n",
       "      <td>-2.707880</td>\n",
       "      <td>Normal</td>\n",
       "    </tr>\n",
       "    <tr>\n",
       "      <th>308</th>\n",
       "      <td>45.252792</td>\n",
       "      <td>8.693157</td>\n",
       "      <td>41.583126</td>\n",
       "      <td>36.559635</td>\n",
       "      <td>118.545842</td>\n",
       "      <td>0.214750</td>\n",
       "      <td>Normal</td>\n",
       "    </tr>\n",
       "    <tr>\n",
       "      <th>309</th>\n",
       "      <td>33.841641</td>\n",
       "      <td>5.073991</td>\n",
       "      <td>36.641233</td>\n",
       "      <td>28.767649</td>\n",
       "      <td>123.945244</td>\n",
       "      <td>-0.199249</td>\n",
       "      <td>Normal</td>\n",
       "    </tr>\n",
       "  </tbody>\n",
       "</table>\n",
       "<p>90 rows × 7 columns</p>\n",
       "</div>"
      ],
      "text/plain": [
       "     P_incidence     P_tilt    L_angle    S_slope    P_radius   S_Degree  \\\n",
       "220    44.489275  21.786433  31.474154  22.702842  113.778494  -0.284129   \n",
       "221    54.950970   5.865353  53.000000  49.085617  126.970328  -0.631603   \n",
       "222    56.103774  13.106307  62.637020  42.997467  116.228503  31.172767   \n",
       "223    69.398818  18.898407  75.966361  50.500411  103.582540  -0.443661   \n",
       "224    89.834676  22.639217  90.563461  67.195460  100.501192   3.040973   \n",
       "..           ...        ...        ...        ...         ...        ...   \n",
       "305    47.903565  13.616688  36.000000  34.286877  117.449062  -4.245395   \n",
       "306    53.936748  20.721496  29.220534  33.215251  114.365845  -0.421010   \n",
       "307    61.446597  22.694968  46.170347  38.751628  125.670725  -2.707880   \n",
       "308    45.252792   8.693157  41.583126  36.559635  118.545842   0.214750   \n",
       "309    33.841641   5.073991  36.641233  28.767649  123.945244  -0.199249   \n",
       "\n",
       "      Class  \n",
       "220  Normal  \n",
       "221  Normal  \n",
       "222  Normal  \n",
       "223  Normal  \n",
       "224  Normal  \n",
       "..      ...  \n",
       "305  Normal  \n",
       "306  Normal  \n",
       "307  Normal  \n",
       "308  Normal  \n",
       "309  Normal  \n",
       "\n",
       "[90 rows x 7 columns]"
      ]
     },
     "execution_count": 11,
     "metadata": {},
     "output_type": "execute_result"
    }
   ],
   "source": [
    "df.tail(90)"
   ]
  },
  {
   "cell_type": "code",
   "execution_count": 12,
   "metadata": {},
   "outputs": [
    {
     "data": {
      "text/html": [
       "<div>\n",
       "<style scoped>\n",
       "    .dataframe tbody tr th:only-of-type {\n",
       "        vertical-align: middle;\n",
       "    }\n",
       "\n",
       "    .dataframe tbody tr th {\n",
       "        vertical-align: top;\n",
       "    }\n",
       "\n",
       "    .dataframe thead th {\n",
       "        text-align: right;\n",
       "    }\n",
       "</style>\n",
       "<table border=\"1\" class=\"dataframe\">\n",
       "  <thead>\n",
       "    <tr style=\"text-align: right;\">\n",
       "      <th></th>\n",
       "      <th>P_incidence</th>\n",
       "      <th>P_tilt</th>\n",
       "      <th>L_angle</th>\n",
       "      <th>S_slope</th>\n",
       "      <th>P_radius</th>\n",
       "      <th>S_Degree</th>\n",
       "      <th>Class</th>\n",
       "    </tr>\n",
       "  </thead>\n",
       "  <tbody>\n",
       "    <tr>\n",
       "      <th>0</th>\n",
       "      <td>74.377678</td>\n",
       "      <td>32.053104</td>\n",
       "      <td>78.772013</td>\n",
       "      <td>42.324573</td>\n",
       "      <td>143.560690</td>\n",
       "      <td>56.125906</td>\n",
       "      <td>Type_S</td>\n",
       "    </tr>\n",
       "    <tr>\n",
       "      <th>1</th>\n",
       "      <td>89.680567</td>\n",
       "      <td>32.704435</td>\n",
       "      <td>83.130732</td>\n",
       "      <td>56.976132</td>\n",
       "      <td>129.955476</td>\n",
       "      <td>92.027277</td>\n",
       "      <td>Type_S</td>\n",
       "    </tr>\n",
       "    <tr>\n",
       "      <th>2</th>\n",
       "      <td>44.529051</td>\n",
       "      <td>9.433234</td>\n",
       "      <td>52.000000</td>\n",
       "      <td>35.095817</td>\n",
       "      <td>134.711772</td>\n",
       "      <td>29.106575</td>\n",
       "      <td>Type_S</td>\n",
       "    </tr>\n",
       "    <tr>\n",
       "      <th>3</th>\n",
       "      <td>77.690577</td>\n",
       "      <td>21.380645</td>\n",
       "      <td>64.429442</td>\n",
       "      <td>56.309932</td>\n",
       "      <td>114.818751</td>\n",
       "      <td>26.931841</td>\n",
       "      <td>Type_S</td>\n",
       "    </tr>\n",
       "    <tr>\n",
       "      <th>4</th>\n",
       "      <td>76.147212</td>\n",
       "      <td>21.936186</td>\n",
       "      <td>82.961502</td>\n",
       "      <td>54.211027</td>\n",
       "      <td>123.932010</td>\n",
       "      <td>10.431972</td>\n",
       "      <td>Type_S</td>\n",
       "    </tr>\n",
       "    <tr>\n",
       "      <th>...</th>\n",
       "      <td>...</td>\n",
       "      <td>...</td>\n",
       "      <td>...</td>\n",
       "      <td>...</td>\n",
       "      <td>...</td>\n",
       "      <td>...</td>\n",
       "      <td>...</td>\n",
       "    </tr>\n",
       "    <tr>\n",
       "      <th>133</th>\n",
       "      <td>70.250436</td>\n",
       "      <td>10.340123</td>\n",
       "      <td>76.370070</td>\n",
       "      <td>59.910314</td>\n",
       "      <td>119.237007</td>\n",
       "      <td>32.666502</td>\n",
       "      <td>Type_S</td>\n",
       "    </tr>\n",
       "    <tr>\n",
       "      <th>134</th>\n",
       "      <td>72.643850</td>\n",
       "      <td>18.929117</td>\n",
       "      <td>68.000000</td>\n",
       "      <td>53.714733</td>\n",
       "      <td>116.963416</td>\n",
       "      <td>25.384247</td>\n",
       "      <td>Type_S</td>\n",
       "    </tr>\n",
       "    <tr>\n",
       "      <th>135</th>\n",
       "      <td>71.241764</td>\n",
       "      <td>5.268270</td>\n",
       "      <td>85.999584</td>\n",
       "      <td>65.973493</td>\n",
       "      <td>110.703107</td>\n",
       "      <td>38.259864</td>\n",
       "      <td>Type_S</td>\n",
       "    </tr>\n",
       "    <tr>\n",
       "      <th>136</th>\n",
       "      <td>63.772391</td>\n",
       "      <td>12.763385</td>\n",
       "      <td>65.360524</td>\n",
       "      <td>51.009006</td>\n",
       "      <td>89.822741</td>\n",
       "      <td>55.995454</td>\n",
       "      <td>Type_S</td>\n",
       "    </tr>\n",
       "    <tr>\n",
       "      <th>137</th>\n",
       "      <td>58.828379</td>\n",
       "      <td>37.577873</td>\n",
       "      <td>125.742385</td>\n",
       "      <td>21.250506</td>\n",
       "      <td>135.629418</td>\n",
       "      <td>117.314683</td>\n",
       "      <td>Type_S</td>\n",
       "    </tr>\n",
       "  </tbody>\n",
       "</table>\n",
       "<p>138 rows × 7 columns</p>\n",
       "</div>"
      ],
      "text/plain": [
       "     P_incidence     P_tilt     L_angle    S_slope    P_radius    S_Degree  \\\n",
       "0      74.377678  32.053104   78.772013  42.324573  143.560690   56.125906   \n",
       "1      89.680567  32.704435   83.130732  56.976132  129.955476   92.027277   \n",
       "2      44.529051   9.433234   52.000000  35.095817  134.711772   29.106575   \n",
       "3      77.690577  21.380645   64.429442  56.309932  114.818751   26.931841   \n",
       "4      76.147212  21.936186   82.961502  54.211027  123.932010   10.431972   \n",
       "..           ...        ...         ...        ...         ...         ...   \n",
       "133    70.250436  10.340123   76.370070  59.910314  119.237007   32.666502   \n",
       "134    72.643850  18.929117   68.000000  53.714733  116.963416   25.384247   \n",
       "135    71.241764   5.268270   85.999584  65.973493  110.703107   38.259864   \n",
       "136    63.772391  12.763385   65.360524  51.009006   89.822741   55.995454   \n",
       "137    58.828379  37.577873  125.742385  21.250506  135.629418  117.314683   \n",
       "\n",
       "      Class  \n",
       "0    Type_S  \n",
       "1    Type_S  \n",
       "2    Type_S  \n",
       "3    Type_S  \n",
       "4    Type_S  \n",
       "..      ...  \n",
       "133  Type_S  \n",
       "134  Type_S  \n",
       "135  Type_S  \n",
       "136  Type_S  \n",
       "137  Type_S  \n",
       "\n",
       "[138 rows x 7 columns]"
      ]
     },
     "execution_count": 12,
     "metadata": {},
     "output_type": "execute_result"
    }
   ],
   "source": [
    "df['Class'].replace('tp_s','Type_S',inplace=True)\n",
    "df.head(138)"
   ]
  },
  {
   "cell_type": "code",
   "execution_count": 13,
   "metadata": {},
   "outputs": [],
   "source": [
    "df['Class'].replace('type_h','Type_H',inplace=True)"
   ]
  },
  {
   "cell_type": "code",
   "execution_count": 14,
   "metadata": {},
   "outputs": [
    {
     "data": {
      "text/html": [
       "<div>\n",
       "<style scoped>\n",
       "    .dataframe tbody tr th:only-of-type {\n",
       "        vertical-align: middle;\n",
       "    }\n",
       "\n",
       "    .dataframe tbody tr th {\n",
       "        vertical-align: top;\n",
       "    }\n",
       "\n",
       "    .dataframe thead th {\n",
       "        text-align: right;\n",
       "    }\n",
       "</style>\n",
       "<table border=\"1\" class=\"dataframe\">\n",
       "  <thead>\n",
       "    <tr style=\"text-align: right;\">\n",
       "      <th></th>\n",
       "      <th>P_incidence</th>\n",
       "      <th>P_tilt</th>\n",
       "      <th>L_angle</th>\n",
       "      <th>S_slope</th>\n",
       "      <th>P_radius</th>\n",
       "      <th>S_Degree</th>\n",
       "      <th>Class</th>\n",
       "    </tr>\n",
       "  </thead>\n",
       "  <tbody>\n",
       "    <tr>\n",
       "      <th>0</th>\n",
       "      <td>74.377678</td>\n",
       "      <td>32.053104</td>\n",
       "      <td>78.772013</td>\n",
       "      <td>42.324573</td>\n",
       "      <td>143.560690</td>\n",
       "      <td>56.125906</td>\n",
       "      <td>Type_S</td>\n",
       "    </tr>\n",
       "    <tr>\n",
       "      <th>1</th>\n",
       "      <td>89.680567</td>\n",
       "      <td>32.704435</td>\n",
       "      <td>83.130732</td>\n",
       "      <td>56.976132</td>\n",
       "      <td>129.955476</td>\n",
       "      <td>92.027277</td>\n",
       "      <td>Type_S</td>\n",
       "    </tr>\n",
       "    <tr>\n",
       "      <th>2</th>\n",
       "      <td>44.529051</td>\n",
       "      <td>9.433234</td>\n",
       "      <td>52.000000</td>\n",
       "      <td>35.095817</td>\n",
       "      <td>134.711772</td>\n",
       "      <td>29.106575</td>\n",
       "      <td>Type_S</td>\n",
       "    </tr>\n",
       "    <tr>\n",
       "      <th>3</th>\n",
       "      <td>77.690577</td>\n",
       "      <td>21.380645</td>\n",
       "      <td>64.429442</td>\n",
       "      <td>56.309932</td>\n",
       "      <td>114.818751</td>\n",
       "      <td>26.931841</td>\n",
       "      <td>Type_S</td>\n",
       "    </tr>\n",
       "    <tr>\n",
       "      <th>4</th>\n",
       "      <td>76.147212</td>\n",
       "      <td>21.936186</td>\n",
       "      <td>82.961502</td>\n",
       "      <td>54.211027</td>\n",
       "      <td>123.932010</td>\n",
       "      <td>10.431972</td>\n",
       "      <td>Type_S</td>\n",
       "    </tr>\n",
       "    <tr>\n",
       "      <th>...</th>\n",
       "      <td>...</td>\n",
       "      <td>...</td>\n",
       "      <td>...</td>\n",
       "      <td>...</td>\n",
       "      <td>...</td>\n",
       "      <td>...</td>\n",
       "      <td>...</td>\n",
       "    </tr>\n",
       "    <tr>\n",
       "      <th>183</th>\n",
       "      <td>38.663257</td>\n",
       "      <td>12.986441</td>\n",
       "      <td>40.000000</td>\n",
       "      <td>25.676816</td>\n",
       "      <td>124.914118</td>\n",
       "      <td>2.703008</td>\n",
       "      <td>Type_H</td>\n",
       "    </tr>\n",
       "    <tr>\n",
       "      <th>184</th>\n",
       "      <td>59.595540</td>\n",
       "      <td>31.998244</td>\n",
       "      <td>46.560252</td>\n",
       "      <td>27.597296</td>\n",
       "      <td>119.330354</td>\n",
       "      <td>1.474286</td>\n",
       "      <td>Type_H</td>\n",
       "    </tr>\n",
       "    <tr>\n",
       "      <th>185</th>\n",
       "      <td>31.484218</td>\n",
       "      <td>7.826221</td>\n",
       "      <td>24.284818</td>\n",
       "      <td>23.657997</td>\n",
       "      <td>113.833145</td>\n",
       "      <td>4.393080</td>\n",
       "      <td>Type_H</td>\n",
       "    </tr>\n",
       "    <tr>\n",
       "      <th>186</th>\n",
       "      <td>32.090987</td>\n",
       "      <td>6.989378</td>\n",
       "      <td>35.998198</td>\n",
       "      <td>25.101609</td>\n",
       "      <td>132.264735</td>\n",
       "      <td>6.413428</td>\n",
       "      <td>Type_H</td>\n",
       "    </tr>\n",
       "    <tr>\n",
       "      <th>187</th>\n",
       "      <td>35.703458</td>\n",
       "      <td>19.443253</td>\n",
       "      <td>20.700000</td>\n",
       "      <td>16.260205</td>\n",
       "      <td>137.540613</td>\n",
       "      <td>-0.263490</td>\n",
       "      <td>Type_H</td>\n",
       "    </tr>\n",
       "  </tbody>\n",
       "</table>\n",
       "<p>188 rows × 7 columns</p>\n",
       "</div>"
      ],
      "text/plain": [
       "     P_incidence     P_tilt    L_angle    S_slope    P_radius   S_Degree  \\\n",
       "0      74.377678  32.053104  78.772013  42.324573  143.560690  56.125906   \n",
       "1      89.680567  32.704435  83.130732  56.976132  129.955476  92.027277   \n",
       "2      44.529051   9.433234  52.000000  35.095817  134.711772  29.106575   \n",
       "3      77.690577  21.380645  64.429442  56.309932  114.818751  26.931841   \n",
       "4      76.147212  21.936186  82.961502  54.211027  123.932010  10.431972   \n",
       "..           ...        ...        ...        ...         ...        ...   \n",
       "183    38.663257  12.986441  40.000000  25.676816  124.914118   2.703008   \n",
       "184    59.595540  31.998244  46.560252  27.597296  119.330354   1.474286   \n",
       "185    31.484218   7.826221  24.284818  23.657997  113.833145   4.393080   \n",
       "186    32.090987   6.989378  35.998198  25.101609  132.264735   6.413428   \n",
       "187    35.703458  19.443253  20.700000  16.260205  137.540613  -0.263490   \n",
       "\n",
       "      Class  \n",
       "0    Type_S  \n",
       "1    Type_S  \n",
       "2    Type_S  \n",
       "3    Type_S  \n",
       "4    Type_S  \n",
       "..      ...  \n",
       "183  Type_H  \n",
       "184  Type_H  \n",
       "185  Type_H  \n",
       "186  Type_H  \n",
       "187  Type_H  \n",
       "\n",
       "[188 rows x 7 columns]"
      ]
     },
     "execution_count": 14,
     "metadata": {},
     "output_type": "execute_result"
    }
   ],
   "source": [
    "df.head(188)"
   ]
  },
  {
   "cell_type": "code",
   "execution_count": 15,
   "metadata": {},
   "outputs": [
    {
     "data": {
      "text/plain": [
       "P_incidence    float64\n",
       "P_tilt         float64\n",
       "L_angle        float64\n",
       "S_slope        float64\n",
       "P_radius       float64\n",
       "S_Degree       float64\n",
       "Class           object\n",
       "dtype: object"
      ]
     },
     "execution_count": 15,
     "metadata": {},
     "output_type": "execute_result"
    }
   ],
   "source": [
    "df.dtypes"
   ]
  },
  {
   "cell_type": "code",
   "execution_count": 16,
   "metadata": {},
   "outputs": [
    {
     "data": {
      "text/html": [
       "<div>\n",
       "<style scoped>\n",
       "    .dataframe tbody tr th:only-of-type {\n",
       "        vertical-align: middle;\n",
       "    }\n",
       "\n",
       "    .dataframe tbody tr th {\n",
       "        vertical-align: top;\n",
       "    }\n",
       "\n",
       "    .dataframe thead th {\n",
       "        text-align: right;\n",
       "    }\n",
       "</style>\n",
       "<table border=\"1\" class=\"dataframe\">\n",
       "  <thead>\n",
       "    <tr style=\"text-align: right;\">\n",
       "      <th></th>\n",
       "      <th>P_incidence</th>\n",
       "      <th>P_tilt</th>\n",
       "      <th>L_angle</th>\n",
       "      <th>S_slope</th>\n",
       "      <th>P_radius</th>\n",
       "      <th>S_Degree</th>\n",
       "    </tr>\n",
       "  </thead>\n",
       "  <tbody>\n",
       "    <tr>\n",
       "      <th>count</th>\n",
       "      <td>310.000000</td>\n",
       "      <td>310.000000</td>\n",
       "      <td>310.000000</td>\n",
       "      <td>310.000000</td>\n",
       "      <td>310.000000</td>\n",
       "      <td>310.000000</td>\n",
       "    </tr>\n",
       "    <tr>\n",
       "      <th>mean</th>\n",
       "      <td>60.496653</td>\n",
       "      <td>17.542822</td>\n",
       "      <td>51.930930</td>\n",
       "      <td>42.953831</td>\n",
       "      <td>117.920655</td>\n",
       "      <td>26.296694</td>\n",
       "    </tr>\n",
       "    <tr>\n",
       "      <th>std</th>\n",
       "      <td>17.236520</td>\n",
       "      <td>10.008330</td>\n",
       "      <td>18.554064</td>\n",
       "      <td>13.423102</td>\n",
       "      <td>13.317377</td>\n",
       "      <td>37.559027</td>\n",
       "    </tr>\n",
       "    <tr>\n",
       "      <th>min</th>\n",
       "      <td>26.147921</td>\n",
       "      <td>-6.554948</td>\n",
       "      <td>14.000000</td>\n",
       "      <td>13.366931</td>\n",
       "      <td>70.082575</td>\n",
       "      <td>-11.058179</td>\n",
       "    </tr>\n",
       "    <tr>\n",
       "      <th>25%</th>\n",
       "      <td>46.430294</td>\n",
       "      <td>10.667069</td>\n",
       "      <td>37.000000</td>\n",
       "      <td>33.347122</td>\n",
       "      <td>110.709196</td>\n",
       "      <td>1.603727</td>\n",
       "    </tr>\n",
       "    <tr>\n",
       "      <th>50%</th>\n",
       "      <td>58.691038</td>\n",
       "      <td>16.357689</td>\n",
       "      <td>49.562398</td>\n",
       "      <td>42.404912</td>\n",
       "      <td>118.268178</td>\n",
       "      <td>11.767934</td>\n",
       "    </tr>\n",
       "    <tr>\n",
       "      <th>75%</th>\n",
       "      <td>72.877696</td>\n",
       "      <td>22.120395</td>\n",
       "      <td>63.000000</td>\n",
       "      <td>52.695888</td>\n",
       "      <td>125.467674</td>\n",
       "      <td>41.287352</td>\n",
       "    </tr>\n",
       "    <tr>\n",
       "      <th>max</th>\n",
       "      <td>129.834041</td>\n",
       "      <td>49.431864</td>\n",
       "      <td>125.742385</td>\n",
       "      <td>121.429566</td>\n",
       "      <td>163.071041</td>\n",
       "      <td>418.543082</td>\n",
       "    </tr>\n",
       "  </tbody>\n",
       "</table>\n",
       "</div>"
      ],
      "text/plain": [
       "       P_incidence      P_tilt     L_angle     S_slope    P_radius    S_Degree\n",
       "count   310.000000  310.000000  310.000000  310.000000  310.000000  310.000000\n",
       "mean     60.496653   17.542822   51.930930   42.953831  117.920655   26.296694\n",
       "std      17.236520   10.008330   18.554064   13.423102   13.317377   37.559027\n",
       "min      26.147921   -6.554948   14.000000   13.366931   70.082575  -11.058179\n",
       "25%      46.430294   10.667069   37.000000   33.347122  110.709196    1.603727\n",
       "50%      58.691038   16.357689   49.562398   42.404912  118.268178   11.767934\n",
       "75%      72.877696   22.120395   63.000000   52.695888  125.467674   41.287352\n",
       "max     129.834041   49.431864  125.742385  121.429566  163.071041  418.543082"
      ]
     },
     "execution_count": 16,
     "metadata": {},
     "output_type": "execute_result"
    }
   ],
   "source": [
    "df.describe()# applying stastical concept for each attribute"
   ]
  },
  {
   "cell_type": "code",
   "execution_count": 17,
   "metadata": {},
   "outputs": [
    {
     "data": {
      "text/plain": [
       "array([[<AxesSubplot:title={'center':'P_incidence'}>,\n",
       "        <AxesSubplot:title={'center':'P_tilt'}>],\n",
       "       [<AxesSubplot:title={'center':'L_angle'}>,\n",
       "        <AxesSubplot:title={'center':'S_slope'}>],\n",
       "       [<AxesSubplot:title={'center':'P_radius'}>,\n",
       "        <AxesSubplot:title={'center':'S_Degree'}>]], dtype=object)"
      ]
     },
     "execution_count": 17,
     "metadata": {},
     "output_type": "execute_result"
    },
    {
     "data": {
      "image/png": "[encoded data removed]",
      "text/plain": [
       "<Figure size 1440x1440 with 6 Axes>"
      ]
     },
     "metadata": {
      "needs_background": "light"
     },
     "output_type": "display_data"
    }
   ],
   "source": [
    "df.hist(figsize=(20,20))"
   ]
  },
  {
   "cell_type": "code",
   "execution_count": 18,
   "metadata": {},
   "outputs": [
    {
     "data": {
      "text/plain": [
       "<AxesSubplot:xlabel='S_Degree'>"
      ]
     },
     "execution_count": 18,
     "metadata": {},
     "output_type": "execute_result"
    },
    {
     "data": {
      "image/png": "[encoded data removed]",
      "text/plain": [
       "<Figure size 432x288 with 1 Axes>"
      ]
     },
     "metadata": {
      "needs_background": "light"
     },
     "output_type": "display_data"
    }
   ],
   "source": [
    "sns.boxplot(x=df['S_Degree'])"
   ]
  },
  {
   "cell_type": "code",
   "execution_count": 19,
   "metadata": {},
   "outputs": [
    {
     "data": {
      "text/plain": [
       "<AxesSubplot:xlabel='P_radius'>"
      ]
     },
     "execution_count": 19,
     "metadata": {},
     "output_type": "execute_result"
    },
    {
     "data": {
      "image/png": "[encoded data removed]",
      "text/plain": [
       "<Figure size 432x288 with 1 Axes>"
      ]
     },
     "metadata": {
      "needs_background": "light"
     },
     "output_type": "display_data"
    }
   ],
   "source": [
    "sns.boxplot(x=df['P_radius'])"
   ]
  },
  {
   "cell_type": "code",
   "execution_count": 20,
   "metadata": {},
   "outputs": [
    {
     "data": {
      "text/plain": [
       "<AxesSubplot:xlabel='S_slope'>"
      ]
     },
     "execution_count": 20,
     "metadata": {},
     "output_type": "execute_result"
    },
    {
     "data": {
      "image/png": "[encoded data removed]",
      "text/plain": [
       "<Figure size 432x288 with 1 Axes>"
      ]
     },
     "metadata": {
      "needs_background": "light"
     },
     "output_type": "display_data"
    }
   ],
   "source": [
    "sns.boxplot(x=df['S_slope'])"
   ]
  },
  {
   "cell_type": "code",
   "execution_count": 21,
   "metadata": {},
   "outputs": [
    {
     "data": {
      "text/plain": [
       "<AxesSubplot:xlabel='L_angle'>"
      ]
     },
     "execution_count": 21,
     "metadata": {},
     "output_type": "execute_result"
    },
    {
     "data": {
      "image/png": "[encoded data removed]",
      "text/plain": [
       "<Figure size 432x288 with 1 Axes>"
      ]
     },
     "metadata": {
      "needs_background": "light"
     },
     "output_type": "display_data"
    }
   ],
   "source": [
    "sns.boxplot(x=df['L_angle'])"
   ]
  },
  {
   "cell_type": "code",
   "execution_count": 22,
   "metadata": {},
   "outputs": [
    {
     "data": {
      "text/plain": [
       "<AxesSubplot:xlabel='P_tilt'>"
      ]
     },
     "execution_count": 22,
     "metadata": {},
     "output_type": "execute_result"
    },
    {
     "data": {
      "image/png": "[encoded data removed]",
      "text/plain": [
       "<Figure size 432x288 with 1 Axes>"
      ]
     },
     "metadata": {
      "needs_background": "light"
     },
     "output_type": "display_data"
    }
   ],
   "source": [
    "sns.boxplot(x=df['P_tilt'])"
   ]
  },
  {
   "cell_type": "code",
   "execution_count": 23,
   "metadata": {},
   "outputs": [
    {
     "data": {
      "text/plain": [
       "<AxesSubplot:xlabel='P_incidence'>"
      ]
     },
     "execution_count": 23,
     "metadata": {},
     "output_type": "execute_result"
    },
    {
     "data": {
      "image/png": "[encoded data removed]",
      "text/plain": [
       "<Figure size 432x288 with 1 Axes>"
      ]
     },
     "metadata": {
      "needs_background": "light"
     },
     "output_type": "display_data"
    }
   ],
   "source": [
    "sns.boxplot(x=df['P_incidence'])"
   ]
  },
  {
   "cell_type": "code",
   "execution_count": 24,
   "metadata": {},
   "outputs": [
    {
     "data": {
      "text/plain": [
       "<AxesSubplot:xlabel='Class', ylabel='P_incidence'>"
      ]
     },
     "execution_count": 24,
     "metadata": {},
     "output_type": "execute_result"
    },
    {
     "data": {
      "image/png": "[encoded data removed]",
      "text/plain": [
       "<Figure size 432x288 with 1 Axes>"
      ]
     },
     "metadata": {
      "needs_background": "light"
     },
     "output_type": "display_data"
    }
   ],
   "source": [
    "sns.boxplot(x=\"Class\",y=\"P_incidence\", data=df)# bivariate analysis for CLASS and P_INCIDENCE ,observing statistics"
   ]
  },
  {
   "cell_type": "code",
   "execution_count": 25,
   "metadata": {},
   "outputs": [
    {
     "data": {
      "text/plain": [
       "<seaborn.axisgrid.PairGrid at 0x1fd54d55610>"
      ]
     },
     "execution_count": 25,
     "metadata": {},
     "output_type": "execute_result"
    },
    {
     "data": {
      "image/png": "[encoded data removed]",
      "text/plain": [
       "<Figure size 1080x1080 with 42 Axes>"
      ]
     },
     "metadata": {
      "needs_background": "light"
     },
     "output_type": "display_data"
    }
   ],
   "source": [
    "sns.pairplot(df)# multivariate analysis and comparing each attribute and degree of corelation between two column"
   ]
  },
  {
   "cell_type": "code",
   "execution_count": 26,
   "metadata": {
    "scrolled": true
   },
   "outputs": [
    {
     "data": {
      "text/plain": [
       "<AxesSubplot:xlabel='P_incidence', ylabel='count'>"
      ]
     },
     "execution_count": 26,
     "metadata": {},
     "output_type": "execute_result"
    },
    {
     "data": {
      "image/png": "[encoded data removed]",
      "text/plain": [
       "<Figure size 432x288 with 1 Axes>"
      ]
     },
     "metadata": {
      "needs_background": "light"
     },
     "output_type": "display_data"
    }
   ],
   "source": [
    "sns.countplot(x=\"P_incidence\",hue=\"Class\", data=df)"
   ]
  },
  {
   "cell_type": "code",
   "execution_count": 27,
   "metadata": {},
   "outputs": [
    {
     "data": {
      "text/html": [
       "<div>\n",
       "<style scoped>\n",
       "    .dataframe tbody tr th:only-of-type {\n",
       "        vertical-align: middle;\n",
       "    }\n",
       "\n",
       "    .dataframe tbody tr th {\n",
       "        vertical-align: top;\n",
       "    }\n",
       "\n",
       "    .dataframe thead th {\n",
       "        text-align: right;\n",
       "    }\n",
       "</style>\n",
       "<table border=\"1\" class=\"dataframe\">\n",
       "  <thead>\n",
       "    <tr style=\"text-align: right;\">\n",
       "      <th></th>\n",
       "      <th>P_incidence</th>\n",
       "      <th>P_tilt</th>\n",
       "      <th>L_angle</th>\n",
       "      <th>S_slope</th>\n",
       "      <th>P_radius</th>\n",
       "      <th>S_Degree</th>\n",
       "    </tr>\n",
       "  </thead>\n",
       "  <tbody>\n",
       "    <tr>\n",
       "      <th>P_incidence</th>\n",
       "      <td>1.000000</td>\n",
       "      <td>0.629199</td>\n",
       "      <td>0.717282</td>\n",
       "      <td>0.814960</td>\n",
       "      <td>-0.247467</td>\n",
       "      <td>0.638743</td>\n",
       "    </tr>\n",
       "    <tr>\n",
       "      <th>P_tilt</th>\n",
       "      <td>0.629199</td>\n",
       "      <td>1.000000</td>\n",
       "      <td>0.432764</td>\n",
       "      <td>0.062345</td>\n",
       "      <td>0.032668</td>\n",
       "      <td>0.397862</td>\n",
       "    </tr>\n",
       "    <tr>\n",
       "      <th>L_angle</th>\n",
       "      <td>0.717282</td>\n",
       "      <td>0.432764</td>\n",
       "      <td>1.000000</td>\n",
       "      <td>0.598387</td>\n",
       "      <td>-0.080344</td>\n",
       "      <td>0.533667</td>\n",
       "    </tr>\n",
       "    <tr>\n",
       "      <th>S_slope</th>\n",
       "      <td>0.814960</td>\n",
       "      <td>0.062345</td>\n",
       "      <td>0.598387</td>\n",
       "      <td>1.000000</td>\n",
       "      <td>-0.342128</td>\n",
       "      <td>0.523557</td>\n",
       "    </tr>\n",
       "    <tr>\n",
       "      <th>P_radius</th>\n",
       "      <td>-0.247467</td>\n",
       "      <td>0.032668</td>\n",
       "      <td>-0.080344</td>\n",
       "      <td>-0.342128</td>\n",
       "      <td>1.000000</td>\n",
       "      <td>-0.026065</td>\n",
       "    </tr>\n",
       "    <tr>\n",
       "      <th>S_Degree</th>\n",
       "      <td>0.638743</td>\n",
       "      <td>0.397862</td>\n",
       "      <td>0.533667</td>\n",
       "      <td>0.523557</td>\n",
       "      <td>-0.026065</td>\n",
       "      <td>1.000000</td>\n",
       "    </tr>\n",
       "  </tbody>\n",
       "</table>\n",
       "</div>"
      ],
      "text/plain": [
       "             P_incidence    P_tilt   L_angle   S_slope  P_radius  S_Degree\n",
       "P_incidence     1.000000  0.629199  0.717282  0.814960 -0.247467  0.638743\n",
       "P_tilt          0.629199  1.000000  0.432764  0.062345  0.032668  0.397862\n",
       "L_angle         0.717282  0.432764  1.000000  0.598387 -0.080344  0.533667\n",
       "S_slope         0.814960  0.062345  0.598387  1.000000 -0.342128  0.523557\n",
       "P_radius       -0.247467  0.032668 -0.080344 -0.342128  1.000000 -0.026065\n",
       "S_Degree        0.638743  0.397862  0.533667  0.523557 -0.026065  1.000000"
      ]
     },
     "execution_count": 27,
     "metadata": {},
     "output_type": "execute_result"
    }
   ],
   "source": [
    "corr=df.corr()\n",
    "corr"
   ]
  },
  {
   "cell_type": "code",
   "execution_count": 28,
   "metadata": {},
   "outputs": [
    {
     "data": {
      "text/plain": [
       "<AxesSubplot:>"
      ]
     },
     "execution_count": 28,
     "metadata": {},
     "output_type": "execute_result"
    },
    {
     "data": {
      "image/png": "[encoded data removed]",
      "text/plain": [
       "<Figure size 432x288 with 2 Axes>"
      ]
     },
     "metadata": {
      "needs_background": "light"
     },
     "output_type": "display_data"
    }
   ],
   "source": [
    "sns.heatmap(corr, annot=True)"
   ]
  },
  {
   "cell_type": "code",
   "execution_count": 29,
   "metadata": {},
   "outputs": [
    {
     "name": "stdout",
     "output_type": "stream",
     "text": [
      "data: P_incidence     60.496653\n",
      "P_tilt          17.542822\n",
      "L_angle         51.930930\n",
      "S_slope         42.953831\n",
      "P_radius       117.920655\n",
      "S_Degree        26.296694\n",
      "dtype: float64\n"
     ]
    },
    {
     "name": "stderr",
     "output_type": "stream",
     "text": [
      "C:\\Users\\ADMINI~1\\AppData\\Local\\Temp/ipykernel_23748/2116138579.py:2: FutureWarning: Dropping of nuisance columns in DataFrame reductions (with 'numeric_only=None') is deprecated; in a future version this will raise TypeError.  Select only valid columns before calling the reduction.\n",
      "  print(\"data:\",df.mean())\n"
     ]
    }
   ],
   "source": [
    "# discriptive statistical analysis\n",
    "print(\"data:\",df.mean())"
   ]
  },
  {
   "cell_type": "code",
   "execution_count": 30,
   "metadata": {},
   "outputs": [
    {
     "name": "stdout",
     "output_type": "stream",
     "text": [
      "data:      P_incidence     P_tilt  L_angle    S_slope    P_radius    S_Degree  \\\n",
      "0      26.147921  -6.554948     35.0  33.111342   70.082575  -11.058179   \n",
      "1      30.149936  -5.845994     42.0  35.417055   78.999454  -10.675871   \n",
      "2      30.741938  -3.759930     47.0  45.000000   81.024541  -10.093108   \n",
      "3      31.232387  -2.970024     52.0  56.309932   82.456038   -9.569250   \n",
      "4      31.276012  -1.329412      NaN        NaN   84.241415   -8.941709   \n",
      "..           ...        ...      ...        ...         ...         ...   \n",
      "305    95.480229  42.689195      NaN        NaN  147.894637  118.353370   \n",
      "306    96.657315  46.550053      NaN        NaN  148.525562  124.984406   \n",
      "307   115.923261  48.069531      NaN        NaN  151.839857  145.378143   \n",
      "308   118.144655  48.903653      NaN        NaN  157.848799  148.753711   \n",
      "309   129.834041  49.431864      NaN        NaN  163.071041  418.543082   \n",
      "\n",
      "      Class  \n",
      "0    Type_S  \n",
      "1       NaN  \n",
      "2       NaN  \n",
      "3       NaN  \n",
      "4       NaN  \n",
      "..      ...  \n",
      "305     NaN  \n",
      "306     NaN  \n",
      "307     NaN  \n",
      "308     NaN  \n",
      "309     NaN  \n",
      "\n",
      "[310 rows x 7 columns]\n"
     ]
    }
   ],
   "source": [
    "print(\"data:\",df.mode())"
   ]
  },
  {
   "cell_type": "code",
   "execution_count": 31,
   "metadata": {},
   "outputs": [
    {
     "name": "stdout",
     "output_type": "stream",
     "text": [
      "data: P_incidence     58.691038\n",
      "P_tilt          16.357689\n",
      "L_angle         49.562398\n",
      "S_slope         42.404912\n",
      "P_radius       118.268178\n",
      "S_Degree        11.767934\n",
      "dtype: float64\n"
     ]
    },
    {
     "name": "stderr",
     "output_type": "stream",
     "text": [
      "C:\\Users\\ADMINI~1\\AppData\\Local\\Temp/ipykernel_23748/4258626821.py:1: FutureWarning: Dropping of nuisance columns in DataFrame reductions (with 'numeric_only=None') is deprecated; in a future version this will raise TypeError.  Select only valid columns before calling the reduction.\n",
      "  print(\"data:\",df.median())\n"
     ]
    }
   ],
   "source": [
    "print(\"data:\",df.median())"
   ]
  },
  {
   "cell_type": "code",
   "execution_count": 32,
   "metadata": {},
   "outputs": [
    {
     "name": "stdout",
     "output_type": "stream",
     "text": [
      "data_quantile(25%): P_incidence     46.430294\n",
      "P_tilt          10.667069\n",
      "L_angle         37.000000\n",
      "S_slope         33.347122\n",
      "P_radius       110.709196\n",
      "S_Degree         1.603727\n",
      "Name: 0.25, dtype: float64\n"
     ]
    }
   ],
   "source": [
    "print(\"data_quantile(25%):\",df.quantile(q=0.25))"
   ]
  },
  {
   "cell_type": "code",
   "execution_count": 33,
   "metadata": {},
   "outputs": [
    {
     "name": "stdout",
     "output_type": "stream",
     "text": [
      "data_quantile(50%): P_incidence     58.691038\n",
      "P_tilt          16.357689\n",
      "L_angle         49.562398\n",
      "S_slope         42.404912\n",
      "P_radius       118.268178\n",
      "S_Degree        11.767934\n",
      "Name: 0.5, dtype: float64\n"
     ]
    }
   ],
   "source": [
    "print(\"data_quantile(50%):\",df.quantile(q=0.50))"
   ]
  },
  {
   "cell_type": "code",
   "execution_count": 34,
   "metadata": {},
   "outputs": [
    {
     "name": "stdout",
     "output_type": "stream",
     "text": [
      "data_quantile(75%): P_incidence     72.877696\n",
      "P_tilt          22.120395\n",
      "L_angle         63.000000\n",
      "S_slope         52.695888\n",
      "P_radius       125.467674\n",
      "S_Degree        41.287352\n",
      "Name: 0.75, dtype: float64\n"
     ]
    }
   ],
   "source": [
    "print(\"data_quantile(75%):\",df.quantile(q=0.75))"
   ]
  },
  {
   "cell_type": "code",
   "execution_count": 35,
   "metadata": {},
   "outputs": [
    {
     "data": {
      "text/plain": [
       "26.447401299999996"
      ]
     },
     "execution_count": 35,
     "metadata": {},
     "output_type": "execute_result"
    }
   ],
   "source": [
    "df[\"P_incidence\"].quantile(0.75)-df[\"P_incidence\"].quantile(0.25)#inteer quartile range for p_incidence"
   ]
  },
  {
   "cell_type": "code",
   "execution_count": 36,
   "metadata": {},
   "outputs": [
    {
     "name": "stderr",
     "output_type": "stream",
     "text": [
      "C:\\Users\\ADMINI~1\\AppData\\Local\\Temp/ipykernel_23748/1665899112.py:1: FutureWarning: Dropping of nuisance columns in DataFrame reductions (with 'numeric_only=None') is deprecated; in a future version this will raise TypeError.  Select only valid columns before calling the reduction.\n",
      "  df.skew()\n"
     ]
    },
    {
     "data": {
      "text/plain": [
       "P_incidence    0.520440\n",
       "P_tilt         0.676553\n",
       "L_angle        0.599451\n",
       "S_slope        0.792577\n",
       "P_radius      -0.176835\n",
       "S_Degree       4.317954\n",
       "dtype: float64"
      ]
     },
     "execution_count": 36,
     "metadata": {},
     "output_type": "execute_result"
    }
   ],
   "source": [
    "df.skew()"
   ]
  },
  {
   "cell_type": "code",
   "execution_count": 37,
   "metadata": {},
   "outputs": [
    {
     "data": {
      "text/plain": [
       "0"
      ]
     },
     "execution_count": 37,
     "metadata": {},
     "output_type": "execute_result"
    }
   ],
   "source": [
    "#identifying duplicate data \n",
    "dupes = df.duplicated()\n",
    "sum(dupes)"
   ]
  },
  {
   "cell_type": "code",
   "execution_count": 38,
   "metadata": {},
   "outputs": [
    {
     "data": {
      "text/html": [
       "<div>\n",
       "<style scoped>\n",
       "    .dataframe tbody tr th:only-of-type {\n",
       "        vertical-align: middle;\n",
       "    }\n",
       "\n",
       "    .dataframe tbody tr th {\n",
       "        vertical-align: top;\n",
       "    }\n",
       "\n",
       "    .dataframe thead th {\n",
       "        text-align: right;\n",
       "    }\n",
       "</style>\n",
       "<table border=\"1\" class=\"dataframe\">\n",
       "  <thead>\n",
       "    <tr style=\"text-align: right;\">\n",
       "      <th></th>\n",
       "      <th>Number of missing values</th>\n",
       "    </tr>\n",
       "  </thead>\n",
       "  <tbody>\n",
       "    <tr>\n",
       "      <th>P_incidence</th>\n",
       "      <td>0</td>\n",
       "    </tr>\n",
       "    <tr>\n",
       "      <th>P_tilt</th>\n",
       "      <td>0</td>\n",
       "    </tr>\n",
       "    <tr>\n",
       "      <th>L_angle</th>\n",
       "      <td>0</td>\n",
       "    </tr>\n",
       "    <tr>\n",
       "      <th>S_slope</th>\n",
       "      <td>0</td>\n",
       "    </tr>\n",
       "    <tr>\n",
       "      <th>P_radius</th>\n",
       "      <td>0</td>\n",
       "    </tr>\n",
       "    <tr>\n",
       "      <th>S_Degree</th>\n",
       "      <td>0</td>\n",
       "    </tr>\n",
       "    <tr>\n",
       "      <th>Class</th>\n",
       "      <td>0</td>\n",
       "    </tr>\n",
       "  </tbody>\n",
       "</table>\n",
       "</div>"
      ],
      "text/plain": [
       "             Number of missing values\n",
       "P_incidence                         0\n",
       "P_tilt                              0\n",
       "L_angle                             0\n",
       "S_slope                             0\n",
       "P_radius                            0\n",
       "S_Degree                            0\n",
       "Class                               0"
      ]
     },
     "execution_count": 38,
     "metadata": {},
     "output_type": "execute_result"
    }
   ],
   "source": [
    "pd.DataFrame( df.isnull().sum(), columns= ['Number of missing values'])"
   ]
  },
  {
   "cell_type": "code",
   "execution_count": 39,
   "metadata": {},
   "outputs": [
    {
     "data": {
      "text/plain": [
       "False"
      ]
     },
     "execution_count": 39,
     "metadata": {},
     "output_type": "execute_result"
    }
   ],
   "source": [
    "df.isnull().values.any()\n"
   ]
  },
  {
   "cell_type": "markdown",
   "metadata": {},
   "source": [
    "## Dealing with Outlayers"
   ]
  },
  {
   "cell_type": "code",
   "execution_count": 40,
   "metadata": {},
   "outputs": [],
   "source": [
    "from scipy import stats"
   ]
  },
  {
   "cell_type": "code",
   "execution_count": 41,
   "metadata": {},
   "outputs": [
    {
     "name": "stdout",
     "output_type": "stream",
     "text": [
      "     P_incidence    P_tilt   L_angle   S_slope  P_radius  S_Degree\n",
      "0       0.806628  1.452165  1.448981  0.046954  1.928420  0.795480\n",
      "1       1.695882  1.517349  1.684280  1.046328  0.905154  1.752890\n",
      "2       0.927880  0.811594  0.003729  0.586356  1.262881  0.074933\n",
      "3       0.999142  0.384083  0.674716  0.996617  0.233298  0.016938\n",
      "4       0.909456  0.439680  1.675145  0.839999  0.452122  0.423077\n",
      "..           ...       ...       ...       ...       ...       ...\n",
      "305     0.731786  0.392921  0.860010  0.646718  0.035469  0.814491\n",
      "306     0.381197  0.318116  1.225991  0.726682  0.267362  0.712503\n",
      "307     0.055201  0.515618  0.310977  0.313564  0.582893  0.773488\n",
      "308     0.885823  0.885660  0.558613  0.477128  0.047021  0.695548\n",
      "309     1.548927  1.247860  0.825394  1.058557  0.453117  0.706589\n",
      "\n",
      "[310 rows x 6 columns]\n"
     ]
    }
   ],
   "source": [
    "df1 = df.drop(columns='Class', axis=1)\n",
    "z = np.abs(stats.zscore(df1))   # get the z-score of every value with respect to their columns\n",
    "print(z)"
   ]
  },
  {
   "cell_type": "code",
   "execution_count": 42,
   "metadata": {},
   "outputs": [],
   "source": [
    "df2 = df1.copy()\n"
   ]
  },
  {
   "cell_type": "code",
   "execution_count": 43,
   "metadata": {},
   "outputs": [
    {
     "name": "stdout",
     "output_type": "stream",
     "text": [
      "P_incidence    26.447401\n",
      "P_tilt         11.453326\n",
      "L_angle        26.000000\n",
      "S_slope        19.348766\n",
      "P_radius       14.758478\n",
      "S_Degree       39.683625\n",
      "dtype: float64\n"
     ]
    }
   ],
   "source": [
    "Q1 = df2.quantile(0.25)\n",
    "Q3 = df2.quantile(0.75)\n",
    "IQR = Q3 - Q1\n",
    "print(IQR)"
   ]
  },
  {
   "cell_type": "code",
   "execution_count": 44,
   "metadata": {},
   "outputs": [],
   "source": [
    "# Replace every outlier on the lower side by the lower whisker\n",
    "for i, j in zip(np.where(df2 < Q1 - 1.5 * IQR)[0], np.where(df2 < Q1 - 1.5 * IQR)[1]): \n",
    "    \n",
    "    whisker  = Q1 - 1.5 * IQR\n",
    "    df2.iloc[i,j] = whisker[j]\n",
    "    \n",
    "    \n",
    "#Replace every outlier on the upper side by the upper whisker    \n",
    "for i, j in zip(np.where(df2 > Q3 + 1.5 * IQR)[0], np.where(df2 > Q3 + 1.5 * IQR)[1]):\n",
    "    \n",
    "    whisker  = Q3 + 1.5 * IQR\n",
    "    df2.iloc[i,j] = whisker[j]\n",
    "    "
   ]
  },
  {
   "cell_type": "code",
   "execution_count": 45,
   "metadata": {},
   "outputs": [
    {
     "data": {
      "text/plain": [
       "((310, 6), (310, 7))"
      ]
     },
     "execution_count": 45,
     "metadata": {},
     "output_type": "execute_result"
    }
   ],
   "source": [
    "df2.shape, df.shape"
   ]
  },
  {
   "cell_type": "code",
   "execution_count": 46,
   "metadata": {},
   "outputs": [
    {
     "data": {
      "text/plain": [
       "P_incidence    0.380674\n",
       "P_tilt         0.455367\n",
       "L_angle        0.490732\n",
       "S_slope        0.281106\n",
       "P_radius      -0.128388\n",
       "S_Degree       0.989762\n",
       "dtype: float64"
      ]
     },
     "execution_count": 46,
     "metadata": {},
     "output_type": "execute_result"
    }
   ],
   "source": [
    "df2.skew() # skews are in range"
   ]
  },
  {
   "cell_type": "markdown",
   "metadata": {},
   "source": [
    "## Normalization"
   ]
  },
  {
   "cell_type": "code",
   "execution_count": 47,
   "metadata": {},
   "outputs": [],
   "source": [
    "X=df2\n",
    "\n",
    "from sklearn.preprocessing import MinMaxScaler\n",
    "minmax_scale = MinMaxScaler()\n",
    "minmax_scale\n",
    "df2[X.columns] = minmax_scale.fit_transform(df2[X.columns])"
   ]
  },
  {
   "cell_type": "code",
   "execution_count": 48,
   "metadata": {},
   "outputs": [
    {
     "data": {
      "text/plain": [
       "Type_S    150\n",
       "Normal    100\n",
       "Type_H     60\n",
       "Name: Class, dtype: int64"
      ]
     },
     "execution_count": 48,
     "metadata": {},
     "output_type": "execute_result"
    }
   ],
   "source": [
    "df['Class'].value_counts()"
   ]
  },
  {
   "cell_type": "code",
   "execution_count": 49,
   "metadata": {},
   "outputs": [
    {
     "data": {
      "text/html": [
       "<div>\n",
       "<style scoped>\n",
       "    .dataframe tbody tr th:only-of-type {\n",
       "        vertical-align: middle;\n",
       "    }\n",
       "\n",
       "    .dataframe tbody tr th {\n",
       "        vertical-align: top;\n",
       "    }\n",
       "\n",
       "    .dataframe thead th {\n",
       "        text-align: right;\n",
       "    }\n",
       "</style>\n",
       "<table border=\"1\" class=\"dataframe\">\n",
       "  <thead>\n",
       "    <tr style=\"text-align: right;\">\n",
       "      <th></th>\n",
       "      <th>P_incidence</th>\n",
       "      <th>P_tilt</th>\n",
       "      <th>L_angle</th>\n",
       "      <th>S_slope</th>\n",
       "      <th>P_radius</th>\n",
       "      <th>S_Degree</th>\n",
       "    </tr>\n",
       "  </thead>\n",
       "  <tbody>\n",
       "    <tr>\n",
       "      <th>0</th>\n",
       "      <td>0.558209</td>\n",
       "      <td>0.841808</td>\n",
       "      <td>0.736046</td>\n",
       "      <td>0.423654</td>\n",
       "      <td>0.931485</td>\n",
       "      <td>0.600550</td>\n",
       "    </tr>\n",
       "    <tr>\n",
       "      <th>1</th>\n",
       "      <td>0.735324</td>\n",
       "      <td>0.856025</td>\n",
       "      <td>0.785577</td>\n",
       "      <td>0.638008</td>\n",
       "      <td>0.701021</td>\n",
       "      <td>0.921467</td>\n",
       "    </tr>\n",
       "    <tr>\n",
       "      <th>2</th>\n",
       "      <td>0.212742</td>\n",
       "      <td>0.348068</td>\n",
       "      <td>0.431818</td>\n",
       "      <td>0.317896</td>\n",
       "      <td>0.781590</td>\n",
       "      <td>0.359027</td>\n",
       "    </tr>\n",
       "    <tr>\n",
       "      <th>3</th>\n",
       "      <td>0.596552</td>\n",
       "      <td>0.608853</td>\n",
       "      <td>0.573062</td>\n",
       "      <td>0.628262</td>\n",
       "      <td>0.444613</td>\n",
       "      <td>0.339588</td>\n",
       "    </tr>\n",
       "    <tr>\n",
       "      <th>4</th>\n",
       "      <td>0.578690</td>\n",
       "      <td>0.620979</td>\n",
       "      <td>0.783653</td>\n",
       "      <td>0.597554</td>\n",
       "      <td>0.598987</td>\n",
       "      <td>0.192098</td>\n",
       "    </tr>\n",
       "    <tr>\n",
       "      <th>...</th>\n",
       "      <td>...</td>\n",
       "      <td>...</td>\n",
       "      <td>...</td>\n",
       "      <td>...</td>\n",
       "      <td>...</td>\n",
       "      <td>...</td>\n",
       "    </tr>\n",
       "    <tr>\n",
       "      <th>305</th>\n",
       "      <td>0.251799</td>\n",
       "      <td>0.439383</td>\n",
       "      <td>0.250000</td>\n",
       "      <td>0.306061</td>\n",
       "      <td>0.489169</td>\n",
       "      <td>0.060899</td>\n",
       "    </tr>\n",
       "    <tr>\n",
       "      <th>306</th>\n",
       "      <td>0.321627</td>\n",
       "      <td>0.594465</td>\n",
       "      <td>0.172961</td>\n",
       "      <td>0.290383</td>\n",
       "      <td>0.436941</td>\n",
       "      <td>0.095084</td>\n",
       "    </tr>\n",
       "    <tr>\n",
       "      <th>307</th>\n",
       "      <td>0.408545</td>\n",
       "      <td>0.637542</td>\n",
       "      <td>0.365572</td>\n",
       "      <td>0.371381</td>\n",
       "      <td>0.628440</td>\n",
       "      <td>0.074642</td>\n",
       "    </tr>\n",
       "    <tr>\n",
       "      <th>308</th>\n",
       "      <td>0.221119</td>\n",
       "      <td>0.331914</td>\n",
       "      <td>0.313445</td>\n",
       "      <td>0.339312</td>\n",
       "      <td>0.507748</td>\n",
       "      <td>0.100767</td>\n",
       "    </tr>\n",
       "    <tr>\n",
       "      <th>309</th>\n",
       "      <td>0.089047</td>\n",
       "      <td>0.252916</td>\n",
       "      <td>0.257287</td>\n",
       "      <td>0.225314</td>\n",
       "      <td>0.599211</td>\n",
       "      <td>0.097067</td>\n",
       "    </tr>\n",
       "  </tbody>\n",
       "</table>\n",
       "<p>310 rows × 6 columns</p>\n",
       "</div>"
      ],
      "text/plain": [
       "     P_incidence    P_tilt   L_angle   S_slope  P_radius  S_Degree\n",
       "0       0.558209  0.841808  0.736046  0.423654  0.931485  0.600550\n",
       "1       0.735324  0.856025  0.785577  0.638008  0.701021  0.921467\n",
       "2       0.212742  0.348068  0.431818  0.317896  0.781590  0.359027\n",
       "3       0.596552  0.608853  0.573062  0.628262  0.444613  0.339588\n",
       "4       0.578690  0.620979  0.783653  0.597554  0.598987  0.192098\n",
       "..           ...       ...       ...       ...       ...       ...\n",
       "305     0.251799  0.439383  0.250000  0.306061  0.489169  0.060899\n",
       "306     0.321627  0.594465  0.172961  0.290383  0.436941  0.095084\n",
       "307     0.408545  0.637542  0.365572  0.371381  0.628440  0.074642\n",
       "308     0.221119  0.331914  0.313445  0.339312  0.507748  0.100767\n",
       "309     0.089047  0.252916  0.257287  0.225314  0.599211  0.097067\n",
       "\n",
       "[310 rows x 6 columns]"
      ]
     },
     "execution_count": 49,
     "metadata": {},
     "output_type": "execute_result"
    }
   ],
   "source": [
    "X"
   ]
  },
  {
   "cell_type": "markdown",
   "metadata": {},
   "source": [
    "## Dimensional reduction"
   ]
  },
  {
   "cell_type": "code",
   "execution_count": 50,
   "metadata": {},
   "outputs": [],
   "source": [
    "from sklearn.decomposition import PCA"
   ]
  },
  {
   "cell_type": "code",
   "execution_count": 51,
   "metadata": {},
   "outputs": [
    {
     "name": "stdout",
     "output_type": "stream",
     "text": [
      "[[ 0.03846421  0.02650671  0.03017917  0.02987168 -0.01034122  0.03433843]\n",
      " [ 0.02650671  0.04371432  0.01904557  0.00344561  0.001839    0.0275869 ]\n",
      " [ 0.03017917  0.01904557  0.04322429  0.02512786 -0.00375637  0.03661872]\n",
      " [ 0.02987168  0.00344561  0.02512786  0.0353373  -0.01428189  0.02346827]\n",
      " [-0.01034122  0.001839   -0.00375637 -0.01428189  0.0458096  -0.0023954 ]\n",
      " [ 0.03433843  0.0275869   0.03661872  0.02346827 -0.0023954   0.0663315 ]]\n"
     ]
    }
   ],
   "source": [
    "covMatrix = np.cov(X,rowvar=False)\n",
    "print(covMatrix)"
   ]
  },
  {
   "cell_type": "code",
   "execution_count": 52,
   "metadata": {},
   "outputs": [
    {
     "data": {
      "text/html": [
       "<style>#sk-container-id-1 {color: black;background-color: white;}#sk-container-id-1 pre{padding: 0;}#sk-container-id-1 div.sk-toggleable {background-color: white;}#sk-container-id-1 label.sk-toggleable__label {cursor: pointer;display: block;width: 100%;margin-bottom: 0;padding: 0.3em;box-sizing: border-box;text-align: center;}#sk-container-id-1 label.sk-toggleable__label-arrow:before {content: \"▸\";float: left;margin-right: 0.25em;color: #696969;}#sk-container-id-1 label.sk-toggleable__label-arrow:hover:before {color: black;}#sk-container-id-1 div.sk-estimator:hover label.sk-toggleable__label-arrow:before {color: black;}#sk-container-id-1 div.sk-toggleable__content {max-height: 0;max-width: 0;overflow: hidden;text-align: left;background-color: #f0f8ff;}#sk-container-id-1 div.sk-toggleable__content pre {margin: 0.2em;color: black;border-radius: 0.25em;background-color: #f0f8ff;}#sk-container-id-1 input.sk-toggleable__control:checked~div.sk-toggleable__content {max-height: 200px;max-width: 100%;overflow: auto;}#sk-container-id-1 input.sk-toggleable__control:checked~label.sk-toggleable__label-arrow:before {content: \"▾\";}#sk-container-id-1 div.sk-estimator input.sk-toggleable__control:checked~label.sk-toggleable__label {background-color: #d4ebff;}#sk-container-id-1 div.sk-label input.sk-toggleable__control:checked~label.sk-toggleable__label {background-color: #d4ebff;}#sk-container-id-1 input.sk-hidden--visually {border: 0;clip: rect(1px 1px 1px 1px);clip: rect(1px, 1px, 1px, 1px);height: 1px;margin: -1px;overflow: hidden;padding: 0;position: absolute;width: 1px;}#sk-container-id-1 div.sk-estimator {font-family: monospace;background-color: #f0f8ff;border: 1px dotted black;border-radius: 0.25em;box-sizing: border-box;margin-bottom: 0.5em;}#sk-container-id-1 div.sk-estimator:hover {background-color: #d4ebff;}#sk-container-id-1 div.sk-parallel-item::after {content: \"\";width: 100%;border-bottom: 1px solid gray;flex-grow: 1;}#sk-container-id-1 div.sk-label:hover label.sk-toggleable__label {background-color: #d4ebff;}#sk-container-id-1 div.sk-serial::before {content: \"\";position: absolute;border-left: 1px solid gray;box-sizing: border-box;top: 0;bottom: 0;left: 50%;z-index: 0;}#sk-container-id-1 div.sk-serial {display: flex;flex-direction: column;align-items: center;background-color: white;padding-right: 0.2em;padding-left: 0.2em;position: relative;}#sk-container-id-1 div.sk-item {position: relative;z-index: 1;}#sk-container-id-1 div.sk-parallel {display: flex;align-items: stretch;justify-content: center;background-color: white;position: relative;}#sk-container-id-1 div.sk-item::before, #sk-container-id-1 div.sk-parallel-item::before {content: \"\";position: absolute;border-left: 1px solid gray;box-sizing: border-box;top: 0;bottom: 0;left: 50%;z-index: -1;}#sk-container-id-1 div.sk-parallel-item {display: flex;flex-direction: column;z-index: 1;position: relative;background-color: white;}#sk-container-id-1 div.sk-parallel-item:first-child::after {align-self: flex-end;width: 50%;}#sk-container-id-1 div.sk-parallel-item:last-child::after {align-self: flex-start;width: 50%;}#sk-container-id-1 div.sk-parallel-item:only-child::after {width: 0;}#sk-container-id-1 div.sk-dashed-wrapped {border: 1px dashed gray;margin: 0 0.4em 0.5em 0.4em;box-sizing: border-box;padding-bottom: 0.4em;background-color: white;}#sk-container-id-1 div.sk-label label {font-family: monospace;font-weight: bold;display: inline-block;line-height: 1.2em;}#sk-container-id-1 div.sk-label-container {text-align: center;}#sk-container-id-1 div.sk-container {/* jupyter's `normalize.less` sets `[hidden] { display: none; }` but bootstrap.min.css set `[hidden] { display: none !important; }` so we also need the `!important` here to be able to override the default hidden behavior on the sphinx rendered scikit-learn.org. See: https://github.com/scikit-learn/scikit-learn/issues/21755 */display: inline-block !important;position: relative;}#sk-container-id-1 div.sk-text-repr-fallback {display: none;}</style><div id=\"sk-container-id-1\" class=\"sk-top-container\"><div class=\"sk-text-repr-fallback\"><pre>PCA(n_components=6)</pre><b>In a Jupyter environment, please rerun this cell to show the HTML representation or trust the notebook. <br />On GitHub, the HTML representation is unable to render, please try loading this page with nbviewer.org.</b></div><div class=\"sk-container\" hidden><div class=\"sk-item\"><div class=\"sk-estimator sk-toggleable\"><input class=\"sk-toggleable__control sk-hidden--visually\" id=\"sk-estimator-id-1\" type=\"checkbox\" checked><label for=\"sk-estimator-id-1\" class=\"sk-toggleable__label sk-toggleable__label-arrow\">PCA</label><div class=\"sk-toggleable__content\"><pre>PCA(n_components=6)</pre></div></div></div></div></div>"
      ],
      "text/plain": [
       "PCA(n_components=6)"
      ]
     },
     "execution_count": 52,
     "metadata": {},
     "output_type": "execute_result"
    }
   ],
   "source": [
    "pca = PCA(n_components=6)\n",
    "pca.fit(X)"
   ]
  },
  {
   "cell_type": "code",
   "execution_count": 53,
   "metadata": {},
   "outputs": [
    {
     "name": "stdout",
     "output_type": "stream",
     "text": [
      "[0.15455055 0.0540637  0.03101836 0.02121353 0.01184833 0.00018675]\n"
     ]
    }
   ],
   "source": [
    "print(pca.explained_variance_)"
   ]
  },
  {
   "cell_type": "code",
   "execution_count": 54,
   "metadata": {},
   "outputs": [
    {
     "name": "stdout",
     "output_type": "stream",
     "text": [
      "[[ 4.64831273e-01  3.40631830e-01  4.54814001e-01  3.48253622e-01\n",
      "  -1.12493803e-01  5.71935860e-01]\n",
      " [-8.97334463e-02  3.94343003e-01  1.33252127e-02 -3.86465923e-01\n",
      "   7.99077483e-01  2.19961838e-01]\n",
      " [ 9.52496320e-02  7.22112675e-01 -2.75846214e-01 -3.73826992e-01\n",
      "  -4.79259414e-01 -1.54769032e-01]\n",
      " [-3.72509051e-01 -2.35019451e-01 -2.05330765e-01 -3.35069966e-01\n",
      "  -2.91664462e-01  7.52663338e-01]\n",
      " [ 3.32993098e-01  2.66159948e-03 -8.21210454e-01  3.83270557e-01\n",
      "   1.84559384e-01  1.83748242e-01]\n",
      " [ 7.19138309e-01 -3.89583895e-01  1.81161828e-02 -5.74846660e-01\n",
      "  -6.40705415e-04 -1.69467225e-02]]\n"
     ]
    }
   ],
   "source": [
    "print(pca.components_)"
   ]
  },
  {
   "cell_type": "code",
   "execution_count": 55,
   "metadata": {},
   "outputs": [
    {
     "data": {
      "image/png": "[encoded data removed]",
      "text/plain": [
       "<Figure size 432x288 with 1 Axes>"
      ]
     },
     "metadata": {
      "needs_background": "light"
     },
     "output_type": "display_data"
    }
   ],
   "source": [
    "plt.bar(list(range(1,7)),pca.explained_variance_ratio_,alpha=0.5, align='center')\n",
    "plt.ylabel('Variation explained')\n",
    "plt.xlabel('eigen Value')\n",
    "plt.show()"
   ]
  },
  {
   "cell_type": "code",
   "execution_count": 56,
   "metadata": {},
   "outputs": [
    {
     "data": {
      "image/png": "[encoded data removed]",
      "text/plain": [
       "<Figure size 432x288 with 1 Axes>"
      ]
     },
     "metadata": {
      "needs_background": "light"
     },
     "output_type": "display_data"
    }
   ],
   "source": [
    "plt.step(list(range(1,7)),np.cumsum(pca.explained_variance_ratio_), where='mid')\n",
    "plt.ylabel('Cum of variation explained')\n",
    "plt.xlabel('eigen Value')\n",
    "plt.show()"
   ]
  },
  {
   "cell_type": "code",
   "execution_count": 57,
   "metadata": {},
   "outputs": [
    {
     "name": "stdout",
     "output_type": "stream",
     "text": [
      "[[ 0.46483127  0.34063183  0.454814    0.34825362 -0.1124938   0.57193586]\n",
      " [-0.08973345  0.394343    0.01332521 -0.38646592  0.79907748  0.21996184]\n",
      " [ 0.09524963  0.72211267 -0.27584621 -0.37382699 -0.47925941 -0.15476903]\n",
      " [-0.37250905 -0.23501945 -0.20533077 -0.33506997 -0.29166446  0.75266334]]\n",
      "[0.56636563 0.19812174 0.11366982 0.07773907]\n"
     ]
    }
   ],
   "source": [
    "pca4 = PCA(n_components=4)\n",
    "pca4.fit(X)\n",
    "print(pca4.components_)\n",
    "print(pca4.explained_variance_ratio_)\n",
    "Xpca4 = pca4.transform(X)"
   ]
  },
  {
   "cell_type": "code",
   "execution_count": 58,
   "metadata": {},
   "outputs": [
    {
     "data": {
      "text/plain": [
       "<seaborn.axisgrid.PairGrid at 0x1fd5a380970>"
      ]
     },
     "execution_count": 58,
     "metadata": {},
     "output_type": "execute_result"
    },
    {
     "data": {
      "image/png": "[encoded data removed]",
      "text/plain": [
       "<Figure size 720x720 with 20 Axes>"
      ]
     },
     "metadata": {
      "needs_background": "light"
     },
     "output_type": "display_data"
    }
   ],
   "source": [
    "sns.pairplot(pd.DataFrame(Xpca4))"
   ]
  },
  {
   "cell_type": "code",
   "execution_count": 59,
   "metadata": {},
   "outputs": [
    {
     "data": {
      "text/plain": [
       "array([[ 0.43252837,  0.52684794, -0.08611561, -0.11109263],\n",
       "       [ 0.82634684,  0.32081137, -0.09198933,  0.04635652],\n",
       "       [-0.1927093 ,  0.22705887, -0.24288322,  0.09347308],\n",
       "       ...,\n",
       "       [-0.16001509,  0.11715508,  0.10049161, -0.22119396],\n",
       "       [-0.3576009 , -0.06554484, -0.05789166, -0.003234  ],\n",
       "       [-0.52354851,  0.0307338 , -0.11267229,  0.08479655]])"
      ]
     },
     "execution_count": 59,
     "metadata": {},
     "output_type": "execute_result"
    }
   ],
   "source": [
    "Xpca4"
   ]
  },
  {
   "cell_type": "code",
   "execution_count": 60,
   "metadata": {},
   "outputs": [],
   "source": [
    "#y=df[\"Class\"]"
   ]
  },
  {
   "cell_type": "code",
   "execution_count": 61,
   "metadata": {},
   "outputs": [],
   "source": [
    "#y"
   ]
  },
  {
   "cell_type": "code",
   "execution_count": 62,
   "metadata": {},
   "outputs": [],
   "source": [
    "df['Class'].replace('Type_H','1',inplace=True)\n",
    "df['Class'].replace('Type_S','0',inplace=True)\n",
    "df['Class'].replace('Normal','2',inplace=True)"
   ]
  },
  {
   "cell_type": "code",
   "execution_count": 63,
   "metadata": {},
   "outputs": [],
   "source": [
    "y=df[\"Class\"]"
   ]
  },
  {
   "cell_type": "code",
   "execution_count": 64,
   "metadata": {},
   "outputs": [
    {
     "data": {
      "text/plain": [
       "0      0\n",
       "1      0\n",
       "2      0\n",
       "3      0\n",
       "4      0\n",
       "      ..\n",
       "305    2\n",
       "306    2\n",
       "307    2\n",
       "308    2\n",
       "309    2\n",
       "Name: Class, Length: 310, dtype: object"
      ]
     },
     "execution_count": 64,
     "metadata": {},
     "output_type": "execute_result"
    }
   ],
   "source": [
    "y"
   ]
  },
  {
   "cell_type": "code",
   "execution_count": 65,
   "metadata": {},
   "outputs": [
    {
     "data": {
      "text/plain": [
       "'1'"
      ]
     },
     "execution_count": 65,
     "metadata": {},
     "output_type": "execute_result"
    }
   ],
   "source": [
    "y[150]"
   ]
  },
  {
   "cell_type": "code",
   "execution_count": 66,
   "metadata": {},
   "outputs": [],
   "source": [
    "from  scipy.stats import zscore\n",
    "from sklearn.model_selection import train_test_split\n",
    "from sklearn.neighbors import KNeighborsClassifier"
   ]
  },
  {
   "cell_type": "code",
   "execution_count": 67,
   "metadata": {},
   "outputs": [],
   "source": [
    "#split x and y train and test in 70:30 ratio\n",
    "\n",
    "X_train,X_test,y_train,y_test=train_test_split(Xpca4,y,test_size=0.30,stratify =y ,random_state=5) "
   ]
  },
  {
   "cell_type": "code",
   "execution_count": 68,
   "metadata": {},
   "outputs": [
    {
     "data": {
      "text/plain": [
       "array([[-5.73428580e-02, -5.71999344e-02, -1.24145335e-01,\n",
       "        -2.18015801e-01],\n",
       "       [-2.24005013e-01, -5.66824648e-02, -2.63288353e-01,\n",
       "        -1.65899615e-01],\n",
       "       [-1.81127341e-01, -3.58717737e-02, -2.29328257e-02,\n",
       "        -1.31248867e-01],\n",
       "       [-3.38497211e-01, -1.62014742e-01, -9.18325546e-02,\n",
       "        -3.05544876e-02],\n",
       "       [ 6.17001727e-01,  2.00042836e-01,  4.50133660e-02,\n",
       "         2.73778366e-01],\n",
       "       [ 4.99973858e-01, -2.83876858e-01,  5.25737153e-02,\n",
       "         2.39985556e-01],\n",
       "       [-4.49125599e-01, -2.23199384e-02,  8.69503208e-02,\n",
       "         5.50205050e-02],\n",
       "       [-3.57876449e-01,  5.89424505e-02,  1.09665815e-01,\n",
       "        -1.83770715e-02],\n",
       "       [ 1.73491460e-01, -1.21945642e-01, -1.23965136e-02,\n",
       "         5.60087778e-03],\n",
       "       [-5.22773891e-01,  1.95283229e-01, -1.39035151e-01,\n",
       "         1.05376588e-01],\n",
       "       [-2.25178618e-01, -5.96190701e-03, -9.87718337e-03,\n",
       "         1.28601738e-01],\n",
       "       [-4.10958779e-01, -1.39542371e-01,  5.94669080e-03,\n",
       "         1.11889752e-01],\n",
       "       [-1.73869521e-01,  1.88054879e-01, -1.78569784e-01,\n",
       "         1.85404825e-01],\n",
       "       [-2.37399676e-01, -4.38425880e-02,  2.34294405e-01,\n",
       "         2.06260495e-02],\n",
       "       [-3.87446851e-02,  2.93887352e-01,  1.08795713e-03,\n",
       "        -1.83081759e-01],\n",
       "       [ 2.35514792e-01, -3.72561695e-01, -1.00769842e-02,\n",
       "         1.36146271e-01],\n",
       "       [-4.43113744e-01,  3.42567188e-02, -2.40714214e-02,\n",
       "         3.09191867e-02],\n",
       "       [-2.60050844e-01,  9.78480667e-02, -4.75511059e-02,\n",
       "         5.08429781e-03],\n",
       "       [ 3.27090689e-02, -9.22018251e-02,  2.36009488e-01,\n",
       "        -3.53721446e-02],\n",
       "       [ 3.56168608e-01,  1.30439387e-01,  3.62093157e-01,\n",
       "        -2.09594949e-01],\n",
       "       [ 3.19292256e-01, -1.19785999e-02,  1.45367618e-01,\n",
       "        -1.58905905e-01],\n",
       "       [ 7.79846573e-01, -9.42685761e-02, -3.11791291e-01,\n",
       "        -1.73588826e-01],\n",
       "       [-2.78216237e-01,  3.91539782e-02, -1.20311965e-01,\n",
       "        -9.41539710e-02],\n",
       "       [ 7.30399061e-02, -1.52656035e-01, -3.33655079e-02,\n",
       "        -4.86588348e-02],\n",
       "       [ 6.27416359e-02, -3.45708100e-01,  9.30033174e-03,\n",
       "        -2.33830258e-01],\n",
       "       [ 2.58990564e-01, -2.52071959e-01, -5.59900259e-02,\n",
       "        -4.04349957e-02],\n",
       "       [-2.47841762e-01, -2.53870336e-01, -9.38082266e-02,\n",
       "        -9.84008279e-02],\n",
       "       [-3.24445569e-01,  1.42868340e-01,  3.03964228e-04,\n",
       "        -9.64472095e-02],\n",
       "       [ 1.59753289e-01,  2.20761558e-01, -1.30397027e-01,\n",
       "        -4.34480902e-02],\n",
       "       [ 4.82268633e-01, -2.18159658e-02, -1.49070064e-01,\n",
       "        -4.21001802e-02],\n",
       "       [ 8.35968101e-03, -1.54498265e-01,  4.72186499e-02,\n",
       "        -2.47923452e-01],\n",
       "       [-2.98182940e-02, -1.01877383e-01,  3.00301871e-01,\n",
       "        -1.24089006e-01],\n",
       "       [-1.85280863e-01,  1.20146301e-01,  2.49006896e-02,\n",
       "        -1.42076062e-01],\n",
       "       [-4.97316679e-01,  1.47260329e-01,  3.48914132e-01,\n",
       "         9.84549373e-02],\n",
       "       [-4.84812223e-02, -4.56157899e-01,  9.12962787e-02,\n",
       "         2.12672212e-01],\n",
       "       [ 2.52836589e-01,  1.58196485e-02, -9.92008256e-02,\n",
       "        -3.45315732e-01],\n",
       "       [ 6.81129867e-01,  8.31518420e-02,  1.35288560e-01,\n",
       "        -1.20768771e-01],\n",
       "       [-4.51987319e-01, -7.94942342e-02,  3.11242504e-03,\n",
       "         1.05645588e-02],\n",
       "       [ 6.41509386e-01, -2.08673019e-01,  1.33901970e-01,\n",
       "        -9.04184712e-03],\n",
       "       [ 6.46203443e-01,  6.93729868e-01,  2.88370700e-02,\n",
       "         3.16551504e-01],\n",
       "       [ 4.18534059e-01,  7.60108860e-02,  1.67962038e-02,\n",
       "        -3.46368130e-02],\n",
       "       [ 4.42483696e-02, -2.11732680e-01, -1.77197773e-01,\n",
       "         1.41575608e-01],\n",
       "       [ 2.27362634e-01, -4.53374421e-01, -1.03483539e-01,\n",
       "        -3.69868804e-02],\n",
       "       [-1.13706012e-01, -2.57067284e-01,  3.26914871e-01,\n",
       "        -7.05278151e-02],\n",
       "       [ 6.60669172e-01,  6.46977688e-02,  4.87739361e-02,\n",
       "         1.14923114e-02],\n",
       "       [-3.64015233e-01, -1.41638876e-01, -8.69537696e-02,\n",
       "        -3.66057156e-02],\n",
       "       [ 2.18083956e-01, -3.93161164e-02, -1.88273354e-02,\n",
       "        -6.32135466e-02],\n",
       "       [ 5.85732464e-01,  8.73571408e-02,  3.13571437e-02,\n",
       "        -4.73903467e-03],\n",
       "       [-4.37683489e-01,  3.62978805e-01, -2.13044756e-01,\n",
       "        -2.14600035e-01],\n",
       "       [ 6.14594180e-01,  6.83758313e-01, -1.46153172e-01,\n",
       "         1.17413040e-01],\n",
       "       [-1.92709301e-01,  2.27058870e-01, -2.42883221e-01,\n",
       "         9.34730810e-02],\n",
       "       [-5.71385990e-01,  3.62482453e-02, -1.96618264e-01,\n",
       "         4.76000139e-02],\n",
       "       [-5.66128862e-01,  9.58623533e-02, -1.76064097e-01,\n",
       "         1.19076332e-01],\n",
       "       [-3.63990279e-01, -5.17162821e-02, -6.90226159e-02,\n",
       "        -8.70543796e-03],\n",
       "       [-4.67982315e-01,  3.50075264e-02,  1.99682772e-01,\n",
       "        -3.78178448e-03],\n",
       "       [-1.70416228e-01,  1.07525033e-01,  5.34222690e-02,\n",
       "        -2.21253453e-01],\n",
       "       [-7.95822516e-02, -5.24735475e-03,  6.12293684e-02,\n",
       "        -1.51935250e-01],\n",
       "       [ 6.71149011e-01,  2.26151410e-01, -8.45906504e-02,\n",
       "        -3.45991582e-02],\n",
       "       [-2.76546786e-01,  8.81134311e-03,  1.61862350e-01,\n",
       "        -3.85205455e-02],\n",
       "       [-2.66276152e-01, -5.03457876e-02,  1.61513652e-01,\n",
       "         1.02628468e-01],\n",
       "       [ 5.87567482e-01,  1.02448793e-01, -1.92640743e-01,\n",
       "        -3.88580457e-02],\n",
       "       [ 3.26647017e-01, -1.90497154e-01,  8.33275819e-02,\n",
       "        -4.00177406e-01],\n",
       "       [-5.04567604e-01,  5.31607204e-02, -3.43926731e-02,\n",
       "         9.77804221e-02],\n",
       "       [ 4.66733709e-01,  1.84721432e-01, -7.27131854e-02,\n",
       "         4.82199183e-01],\n",
       "       [-4.74802066e-01, -5.45718472e-02,  7.77342378e-02,\n",
       "         1.41917044e-01],\n",
       "       [-2.75016825e-01,  3.43695850e-01,  2.98143185e-01,\n",
       "        -5.18962472e-02],\n",
       "       [ 5.62456177e-01,  1.45976386e-02,  1.64210166e-01,\n",
       "         2.76618204e-02],\n",
       "       [-9.75685899e-02, -1.41087981e-01, -7.22892882e-03,\n",
       "        -1.30908725e-01],\n",
       "       [-3.85994308e-01,  1.48741874e-01, -2.18521889e-01,\n",
       "         1.63914755e-02],\n",
       "       [ 4.50117739e-01,  2.15810827e-01,  4.24134504e-01,\n",
       "         1.79635166e-01],\n",
       "       [ 2.08112991e-01, -4.19267066e-01,  1.00832272e-01,\n",
       "         1.04898111e-01],\n",
       "       [ 3.44715650e-01, -1.26147576e-01, -8.59408355e-02,\n",
       "        -9.93956877e-02],\n",
       "       [-4.44518753e-02, -3.73433441e-01, -4.00601783e-02,\n",
       "         2.69087569e-01],\n",
       "       [ 4.32528368e-01,  5.26847937e-01, -8.61156114e-02,\n",
       "        -1.11092635e-01],\n",
       "       [ 6.50281234e-01,  4.23831862e-01, -1.80542882e-02,\n",
       "         1.88180708e-01],\n",
       "       [-3.83744286e-01,  1.10019748e-01, -1.10666150e-01,\n",
       "        -9.18568514e-02],\n",
       "       [ 8.09253602e-02, -3.35815389e-01,  1.60409666e-02,\n",
       "        -2.47203435e-01],\n",
       "       [-3.30555606e-01,  1.08065806e-01,  9.18421248e-02,\n",
       "         6.04672823e-02],\n",
       "       [-4.28183752e-01, -2.46417275e-02,  8.09249640e-02,\n",
       "        -1.27601643e-02],\n",
       "       [ 5.95747801e-01,  7.72392381e-02, -2.43249914e-01,\n",
       "        -1.26254699e-02],\n",
       "       [ 1.05439175e+00, -1.46827543e-01,  1.31709222e-01,\n",
       "        -1.15274855e-01],\n",
       "       [-2.42027178e-01,  4.13989040e-03,  1.88509909e-01,\n",
       "        -4.49748596e-02],\n",
       "       [ 8.31549980e-01, -4.45714725e-01,  5.56112638e-02,\n",
       "        -6.28357788e-02],\n",
       "       [-5.20700482e-01, -1.79570133e-01, -2.13896329e-01,\n",
       "         2.14881528e-02],\n",
       "       [-4.57791873e-02, -2.36927506e-01,  1.04049008e-01,\n",
       "         1.38638599e-01],\n",
       "       [ 6.56243639e-01, -5.64962827e-02, -1.21291421e-01,\n",
       "        -1.74350217e-01],\n",
       "       [ 4.57636425e-01, -9.40997103e-02, -1.75938059e-01,\n",
       "         1.02279823e-02],\n",
       "       [-6.13949387e-02, -3.68991547e-01,  1.59439588e-01,\n",
       "         1.48763763e-01],\n",
       "       [-5.83809527e-01, -1.25589245e-01,  2.29395059e-01,\n",
       "         1.79276571e-01],\n",
       "       [-3.94643897e-01, -4.65518864e-01,  1.42911365e-01,\n",
       "         2.26796435e-01],\n",
       "       [-3.18040149e-01, -2.09043826e-01,  5.81618837e-02,\n",
       "         8.95075538e-02],\n",
       "       [-1.51675724e-01,  4.48686584e-03, -1.44194819e-01,\n",
       "        -2.67186588e-01],\n",
       "       [ 4.44009703e-01, -3.96297404e-01,  3.25721240e-02,\n",
       "        -4.23286743e-01]])"
      ]
     },
     "execution_count": 68,
     "metadata": {},
     "output_type": "execute_result"
    }
   ],
   "source": [
    "X_test"
   ]
  },
  {
   "cell_type": "code",
   "execution_count": 69,
   "metadata": {},
   "outputs": [
    {
     "data": {
      "text/plain": [
       "236    2\n",
       "221    2\n",
       "284    2\n",
       "300    2\n",
       "44     0\n",
       "      ..\n",
       "190    1\n",
       "159    1\n",
       "154    1\n",
       "277    2\n",
       "224    2\n",
       "Name: Class, Length: 93, dtype: object"
      ]
     },
     "execution_count": 69,
     "metadata": {},
     "output_type": "execute_result"
    }
   ],
   "source": [
    "y_test"
   ]
  },
  {
   "cell_type": "code",
   "execution_count": 70,
   "metadata": {},
   "outputs": [
    {
     "data": {
      "text/plain": [
       "array([[ 7.70731150e-01,  7.80976301e-03, -2.84417751e-01,\n",
       "        -1.57356705e-02],\n",
       "       [ 5.68932533e-02, -1.58855994e-02, -7.06177481e-02,\n",
       "         4.37471815e-02],\n",
       "       [ 1.67065175e-01, -2.39528489e-01, -2.47930712e-01,\n",
       "         1.06484542e-01],\n",
       "       [-4.69663022e-01, -7.74751087e-02,  5.01461177e-02,\n",
       "        -4.24516088e-02],\n",
       "       [-1.90003618e-01, -3.64674662e-02, -1.44562323e-01,\n",
       "        -7.42059585e-02],\n",
       "       [ 1.77428046e-02,  2.44182235e-02, -1.81479625e-02,\n",
       "        -3.67594167e-02],\n",
       "       [ 1.14117549e-01, -3.04076103e-01, -4.54128230e-02,\n",
       "         3.04181678e-01],\n",
       "       [ 5.65994462e-01, -7.32439647e-02,  4.50923209e-01,\n",
       "         4.74017010e-02],\n",
       "       [-2.87714516e-01,  3.83861983e-01, -3.07409101e-01,\n",
       "        -2.15788917e-02],\n",
       "       [-3.83746970e-01,  2.93469091e-02,  3.29910632e-01,\n",
       "         8.80631342e-02],\n",
       "       [ 9.66257217e-02, -7.69004068e-03, -1.57017876e-01,\n",
       "        -1.00076442e-01],\n",
       "       [ 5.82305435e-01,  4.92535097e-01, -5.52744274e-02,\n",
       "         2.33360362e-02],\n",
       "       [-5.50778325e-02, -5.10719827e-02,  2.11693247e-01,\n",
       "        -2.14033007e-01],\n",
       "       [-5.62916180e-01, -4.39555062e-02,  7.05282084e-02,\n",
       "         2.15578062e-01],\n",
       "       [ 2.67069833e-01,  3.40622755e-02,  3.12399733e-03,\n",
       "         1.19245291e-01],\n",
       "       [-4.74154747e-01,  8.69764180e-02,  2.19268634e-01,\n",
       "         9.04023437e-02],\n",
       "       [-1.38873632e-01, -2.97914136e-01, -4.30368072e-01,\n",
       "         1.85267308e-01],\n",
       "       [ 1.31627729e-02, -2.67532114e-02, -1.87989518e-01,\n",
       "        -2.24175764e-01],\n",
       "       [-2.73330682e-01, -5.06800138e-02,  6.44508163e-02,\n",
       "         1.35227053e-02],\n",
       "       [ 7.81342839e-01,  5.69330590e-01,  5.80686211e-02,\n",
       "         2.04909547e-01],\n",
       "       [ 5.59329041e-01, -2.02099803e-01, -1.01635690e-01,\n",
       "        -1.88871305e-01],\n",
       "       [-3.55353335e-01, -2.20384807e-01, -4.27742960e-01,\n",
       "        -5.59037918e-02],\n",
       "       [-1.63736953e-01,  2.21555124e-01,  2.62332200e-01,\n",
       "        -1.25721765e-01],\n",
       "       [ 5.68982027e-01,  8.01974789e-01,  2.74947784e-02,\n",
       "         2.33636613e-01],\n",
       "       [ 2.14846704e-01, -3.17061739e-01, -3.45407359e-02,\n",
       "         5.31006966e-02],\n",
       "       [ 7.12091179e-01,  5.77180602e-01, -6.00302549e-02,\n",
       "         2.01520281e-02],\n",
       "       [-3.70754355e-01,  8.03298596e-02, -7.40655718e-03,\n",
       "         2.47644880e-02],\n",
       "       [ 7.54389371e-02, -1.90581494e-01,  4.98592083e-02,\n",
       "        -2.66123175e-01],\n",
       "       [-2.26972643e-02, -9.84466953e-02,  3.26714622e-01,\n",
       "         7.02077471e-02],\n",
       "       [ 5.80412159e-01,  2.60515309e-01,  6.44525544e-02,\n",
       "         4.37929006e-02],\n",
       "       [ 2.04337802e-01,  1.58447939e-02, -1.85438812e-01,\n",
       "        -2.97662680e-02],\n",
       "       [-2.53555007e-01,  1.72168789e-01,  2.78794677e-01,\n",
       "        -7.96849981e-02],\n",
       "       [ 5.31302633e-02, -1.36373697e-01, -3.24310640e-02,\n",
       "         5.81535339e-02],\n",
       "       [ 5.07605554e-01,  8.85487133e-02, -8.74467833e-04,\n",
       "         2.29696174e-02],\n",
       "       [ 3.76343267e-01, -1.58063598e-01, -5.18476709e-02,\n",
       "        -1.05241165e-01],\n",
       "       [ 3.21370826e-01, -1.24611314e-01, -1.95838930e-01,\n",
       "         1.17732696e-01],\n",
       "       [-2.68142197e-01,  7.81921223e-02,  1.23419691e-01,\n",
       "        -4.53725443e-02],\n",
       "       [ 3.49073514e-01,  7.11122830e-01,  6.77805560e-02,\n",
       "         4.22245252e-01],\n",
       "       [-4.46280006e-01,  1.87495399e-01, -1.03050571e-02,\n",
       "        -6.58870684e-02],\n",
       "       [-2.44580945e-01, -3.95480061e-01, -7.16938255e-02,\n",
       "         2.75643397e-01],\n",
       "       [ 1.68525733e-01,  3.71981250e-01, -2.47123307e-01,\n",
       "         1.22724485e-01],\n",
       "       [-2.44802886e-01, -5.85456890e-02, -1.31048684e-03,\n",
       "        -4.35089226e-02],\n",
       "       [ 2.56253050e-01, -3.96323418e-02, -1.18470246e-02,\n",
       "        -1.72661827e-01],\n",
       "       [-5.23548514e-01,  3.07337958e-02, -1.12672289e-01,\n",
       "         8.47965487e-02],\n",
       "       [ 2.48638664e-01, -1.66443125e-01, -1.61088930e-01,\n",
       "        -8.81900795e-02],\n",
       "       [-3.40840376e-01,  1.68769261e-01, -1.91393923e-01,\n",
       "        -7.57114854e-02],\n",
       "       [-4.55057685e-01,  2.14973399e-01, -1.51563210e-01,\n",
       "        -8.96128775e-02],\n",
       "       [-5.61164878e-01,  8.94487894e-02, -3.33007726e-01,\n",
       "        -1.54780622e-04],\n",
       "       [-3.76522417e-01,  2.48699784e-01, -6.17123713e-02,\n",
       "        -2.01480974e-02],\n",
       "       [-4.75987671e-01,  2.49215383e-01,  4.00753530e-02,\n",
       "        -4.28984716e-02],\n",
       "       [-1.83198849e-01, -2.95816583e-01,  7.58308819e-02,\n",
       "         2.45971269e-01],\n",
       "       [ 9.27868930e-01, -3.82361036e-01,  3.61595637e-01,\n",
       "        -3.42627002e-02],\n",
       "       [-7.57174978e-02,  8.02861974e-02,  1.85819566e-01,\n",
       "        -2.34876863e-01],\n",
       "       [ 3.45625284e-01, -3.12951777e-01, -3.72284928e-01,\n",
       "        -5.08267411e-02],\n",
       "       [-4.94973123e-01,  2.03458193e-01,  2.81161629e-02,\n",
       "         3.54204982e-02],\n",
       "       [ 7.89761073e-01,  3.60016080e-01, -6.12086198e-03,\n",
       "         2.06795678e-01],\n",
       "       [ 3.78913360e-02, -4.25367528e-02, -1.01590398e-01,\n",
       "         6.63931053e-02],\n",
       "       [-2.48547209e-01, -4.06702759e-02, -1.32007676e-01,\n",
       "        -9.75286982e-02],\n",
       "       [ 1.43299706e-01, -3.39268257e-01, -8.39451420e-02,\n",
       "         2.89557567e-01],\n",
       "       [ 8.02526645e-01, -3.41365343e-01, -3.07600370e-01,\n",
       "         2.01313286e-01],\n",
       "       [-4.16305016e-01,  3.79987594e-01, -3.44493981e-01,\n",
       "         1.85894152e-01],\n",
       "       [-4.14473832e-01,  1.49187280e-01, -3.78884419e-01,\n",
       "        -7.90207783e-02],\n",
       "       [ 2.00805002e-01, -2.03527619e-01,  1.40131766e-01,\n",
       "        -1.90797023e-02],\n",
       "       [-7.13491620e-02,  1.69971873e-01, -1.74459597e-01,\n",
       "        -2.92242833e-01],\n",
       "       [-2.12124950e-01, -7.20181958e-02,  9.41135276e-02,\n",
       "         4.48169724e-02],\n",
       "       [ 3.37102931e-02, -2.02559462e-01,  2.87585909e-01,\n",
       "        -7.83849884e-02],\n",
       "       [-4.69338946e-02, -6.14904652e-02, -2.15871958e-02,\n",
       "         9.15705625e-02],\n",
       "       [-2.77373959e-01, -2.79817697e-01,  2.00694479e-01,\n",
       "         1.26039173e-01],\n",
       "       [ 5.83648567e-01, -2.38824140e-01, -2.55119522e-01,\n",
       "        -1.41537920e-01],\n",
       "       [-3.75988328e-01, -1.84679787e-01,  1.38570956e-01,\n",
       "        -2.65442262e-02],\n",
       "       [ 7.28903459e-01, -6.59494708e-02,  4.28524257e-01,\n",
       "         1.48445553e-01],\n",
       "       [-5.12128141e-01,  2.43039853e-01, -1.58409648e-01,\n",
       "        -5.65772526e-02],\n",
       "       [ 7.69504609e-01,  5.49274419e-01,  8.60801716e-02,\n",
       "         1.55503932e-01],\n",
       "       [-3.27545628e-01,  6.22073935e-02, -2.26365862e-01,\n",
       "        -7.20663441e-02],\n",
       "       [ 2.52483984e-01, -1.30925982e-01, -2.91632895e-01,\n",
       "        -1.00174738e-01],\n",
       "       [ 3.97590999e-01, -3.84311989e-01,  1.23723734e-01,\n",
       "         1.13529211e-02],\n",
       "       [-1.27601969e-01, -1.71604461e-02,  9.01005718e-03,\n",
       "        -1.61817959e-01],\n",
       "       [-4.13088246e-01,  6.50929434e-02, -8.86579874e-02,\n",
       "        -8.46962432e-02],\n",
       "       [ 1.78725202e-01, -3.32347486e-01, -3.12220990e-02,\n",
       "        -3.13264153e-02],\n",
       "       [-1.60015092e-01,  1.17155078e-01,  1.00491608e-01,\n",
       "        -2.21193962e-01],\n",
       "       [-4.32255053e-02,  1.51822876e-01,  5.09960976e-02,\n",
       "         1.04758741e-01],\n",
       "       [-2.41190686e-01,  1.49364640e-03, -1.89889597e-01,\n",
       "        -1.50103653e-01],\n",
       "       [ 7.15254440e-01,  1.28519687e-01, -2.24650572e-01,\n",
       "         4.16864279e-02],\n",
       "       [-3.52777200e-01,  5.67342484e-02,  1.89052233e-01,\n",
       "         3.79872354e-02],\n",
       "       [ 5.01576171e-01,  1.68459135e-01, -2.58015438e-01,\n",
       "         9.19362801e-02],\n",
       "       [-4.90993645e-01,  1.98777381e-01,  1.35592839e-01,\n",
       "         1.26922122e-01],\n",
       "       [-1.35445482e-01,  6.30156449e-02,  2.07952464e-01,\n",
       "        -8.44548045e-02],\n",
       "       [-2.31058109e-01, -2.31247119e-01, -2.03360875e-02,\n",
       "         2.91618203e-01],\n",
       "       [ 4.66710650e-01,  3.37620310e-01, -2.59248887e-01,\n",
       "        -8.43839536e-02],\n",
       "       [-1.74696805e-01, -8.84839450e-02,  8.35823974e-02,\n",
       "        -6.18106632e-02],\n",
       "       [-5.79750708e-01, -7.29247412e-02, -1.53066683e-01,\n",
       "         2.16241714e-01],\n",
       "       [-7.60831344e-01,  1.57456073e-01,  1.16079277e-01,\n",
       "         1.34435341e-01],\n",
       "       [-6.01365245e-01,  6.56380901e-02, -1.40596059e-01,\n",
       "         7.93480247e-02],\n",
       "       [-4.50254724e-01, -9.37138254e-03,  2.10004170e-01,\n",
       "         5.06598619e-02],\n",
       "       [-3.89498230e-01,  1.58077499e-01, -1.79387243e-02,\n",
       "        -2.60280867e-02],\n",
       "       [-4.72422705e-01,  1.09321994e-01,  6.56542525e-02,\n",
       "         6.61481956e-02],\n",
       "       [-2.61203238e-01,  9.63523025e-02,  1.52448649e-01,\n",
       "         1.22713324e-02],\n",
       "       [ 7.58500824e-01,  5.31218499e-01, -5.36708065e-02,\n",
       "         1.17394092e-01],\n",
       "       [-5.84871089e-01,  4.15855046e-01, -6.84151896e-02,\n",
       "         9.81091258e-03],\n",
       "       [-5.79044054e-01,  4.04688272e-01,  1.23960716e-01,\n",
       "         3.39629219e-02],\n",
       "       [ 5.98147007e-01,  6.69177280e-01, -1.08725940e-01,\n",
       "         2.01685251e-01],\n",
       "       [-1.05941983e-01, -9.05881876e-02,  2.51506284e-02,\n",
       "        -1.89109666e-01],\n",
       "       [ 3.08644503e-01, -4.45804353e-01,  6.27372373e-02,\n",
       "         1.52797007e-01],\n",
       "       [-2.90857783e-01,  5.57263819e-02,  7.40540321e-02,\n",
       "         4.14990844e-02],\n",
       "       [-8.73699741e-02,  1.07829391e-01, -1.97445744e-01,\n",
       "        -2.39249830e-01],\n",
       "       [-3.34753148e-01,  9.87079453e-02, -1.58595250e-01,\n",
       "        -2.80839070e-02],\n",
       "       [ 1.27069081e-01, -2.65298205e-01,  2.75740299e-03,\n",
       "         4.89542278e-02],\n",
       "       [-2.31737368e-01,  3.44275997e-01, -8.94956731e-02,\n",
       "        -9.53490655e-02],\n",
       "       [ 3.11240206e-01,  4.69913338e-01,  3.33968095e-01,\n",
       "         9.59930758e-02],\n",
       "       [ 1.74720397e-01, -9.45018691e-02, -1.18431462e-01,\n",
       "         7.49498282e-02],\n",
       "       [-4.15449246e-01,  1.82743805e-01,  1.57787709e-01,\n",
       "        -2.37001949e-02],\n",
       "       [ 5.43775199e-01, -4.09728380e-01,  9.92646215e-02,\n",
       "         4.70041326e-02],\n",
       "       [-5.62786114e-01,  1.66156605e-01,  9.65818672e-02,\n",
       "         8.92930368e-02],\n",
       "       [-1.12527595e-01,  1.39381631e-01, -4.06080654e-02,\n",
       "         6.27265418e-03],\n",
       "       [-3.14958892e-02, -3.61508278e-01, -3.83988117e-01,\n",
       "         1.30380418e-01],\n",
       "       [ 2.73644095e-01, -9.61526123e-02, -8.48624690e-03,\n",
       "        -1.60132409e-01],\n",
       "       [ 5.34339464e-01,  4.02104443e-01,  1.59771576e-01,\n",
       "         7.45525892e-02],\n",
       "       [-5.21960251e-02, -3.63513038e-01,  1.26993453e-01,\n",
       "         4.08036258e-01],\n",
       "       [ 2.30089731e-01, -1.94941308e-01, -1.52667633e-01,\n",
       "         1.81259191e-01],\n",
       "       [-3.01146092e-01,  4.64784889e-02,  2.15251524e-01,\n",
       "        -7.40945403e-02],\n",
       "       [ 4.67553600e-01, -5.42495490e-02,  5.94758112e-02,\n",
       "         9.12212503e-02],\n",
       "       [ 2.33899070e-01, -4.03981704e-01, -4.56828810e-02,\n",
       "         2.27285048e-01],\n",
       "       [-2.56866491e-01, -2.91245098e-02, -6.19758004e-02,\n",
       "        -1.07693697e-01],\n",
       "       [-4.89267993e-01, -8.57688170e-04, -2.49237604e-01,\n",
       "         2.66796074e-02],\n",
       "       [-3.13639027e-02,  4.24340534e-02,  2.51693177e-01,\n",
       "        -1.26055348e-01],\n",
       "       [ 3.76017130e-01, -1.09780017e-01,  2.06574882e-01,\n",
       "        -2.06717881e-01],\n",
       "       [-2.48678020e-01,  8.10541526e-02,  2.17402424e-01,\n",
       "        -8.41745475e-02],\n",
       "       [ 1.75576955e-01, -4.31062527e-01, -1.07106377e-01,\n",
       "         1.55258946e-01],\n",
       "       [-1.89670248e-01,  1.57719063e-01, -3.61257783e-01,\n",
       "        -2.82020730e-02],\n",
       "       [ 2.55878958e-01, -1.92157460e-01, -4.34168979e-02,\n",
       "        -1.38158373e-02],\n",
       "       [ 5.44051515e-01,  8.82212092e-02,  1.32227993e-01,\n",
       "         1.39436926e-01],\n",
       "       [-1.36928333e-02, -4.49710448e-01, -2.41921514e-01,\n",
       "         1.21571546e-01],\n",
       "       [ 6.11028979e-01,  1.19531183e-03, -3.28022596e-01,\n",
       "         3.64779605e-02],\n",
       "       [ 2.21497875e-01, -7.08118858e-02, -6.49599801e-02,\n",
       "        -1.42415113e-01],\n",
       "       [-2.93294972e-01,  1.17037434e-01,  1.43804224e-01,\n",
       "        -5.06594908e-02],\n",
       "       [ 1.64447953e-01, -5.12865144e-02, -7.46317255e-02,\n",
       "        -6.97427748e-02],\n",
       "       [ 5.26975138e-02,  3.20366413e-02,  2.82451637e-02,\n",
       "        -1.57001994e-01],\n",
       "       [ 8.58331385e-02, -1.14695749e-01, -1.36125239e-01,\n",
       "        -1.51506727e-01],\n",
       "       [ 9.64349019e-02,  4.91082847e-02,  9.68574748e-02,\n",
       "        -7.49691748e-02],\n",
       "       [-3.41726118e-01,  1.38794569e-01, -5.92444100e-02,\n",
       "        -9.33391338e-02],\n",
       "       [ 1.04848458e-03, -8.07974584e-02,  2.03022898e-02,\n",
       "         8.74915276e-02],\n",
       "       [-2.36437927e-01, -1.11910240e-01,  4.03369014e-02,\n",
       "        -4.21396573e-02],\n",
       "       [ 4.86221925e-01,  4.29573210e-02, -2.22939843e-01,\n",
       "        -2.31579076e-01],\n",
       "       [ 2.62129563e-01, -2.75855864e-01,  1.46733970e-01,\n",
       "         2.04233473e-01],\n",
       "       [-1.89007724e-02,  5.23028496e-02,  5.99780538e-01,\n",
       "        -1.51058445e-01],\n",
       "       [ 6.59686878e-01,  2.49808127e-01,  1.68713314e-01,\n",
       "        -7.43633037e-02],\n",
       "       [ 6.46156984e-01,  8.90553340e-02,  1.01359945e-01,\n",
       "         2.04529699e-01],\n",
       "       [-4.78771609e-01,  2.31416341e-02,  1.32309699e-01,\n",
       "         2.57515379e-01],\n",
       "       [-2.97667151e-01, -1.18212699e-02,  2.33130437e-01,\n",
       "        -4.07640079e-02],\n",
       "       [-4.73523791e-02,  2.51907522e-01, -2.52423768e-01,\n",
       "        -3.04251229e-01],\n",
       "       [-3.01331327e-01,  1.26555221e-01, -2.27138369e-02,\n",
       "         6.26156177e-02],\n",
       "       [ 3.08716335e-01, -4.06957396e-01,  2.91357731e-02,\n",
       "         2.86928525e-01],\n",
       "       [-4.73961068e-01,  1.72639062e-01,  4.08123949e-02,\n",
       "         1.10779049e-02],\n",
       "       [-1.24336661e-01, -9.22985274e-02,  3.18743605e-02,\n",
       "        -1.47292482e-01],\n",
       "       [-1.34330524e-01, -7.84752353e-02, -2.42774315e-01,\n",
       "        -1.80898132e-01],\n",
       "       [ 6.59828419e-01,  1.78747407e-01,  2.19705082e-01,\n",
       "        -1.05314321e-01],\n",
       "       [-3.19695306e-01, -2.96047959e-01,  1.69379989e-01,\n",
       "         1.46992171e-01],\n",
       "       [-2.25574353e-01,  1.40861157e-01,  1.03383236e-01,\n",
       "        -1.14572394e-01],\n",
       "       [-1.22154656e-01,  1.84682992e-01,  3.50559914e-01,\n",
       "        -1.47705646e-01],\n",
       "       [ 2.17481197e-01, -1.07202667e-01,  2.31075584e-01,\n",
       "        -3.15690984e-01],\n",
       "       [-4.96441734e-01,  5.40359532e-02, -7.92852478e-02,\n",
       "         3.56171624e-02],\n",
       "       [ 4.32976741e-01,  8.09898031e-02,  6.95014139e-02,\n",
       "        -9.02375949e-02],\n",
       "       [ 3.48731274e-01,  3.58452461e-01,  3.08728515e-01,\n",
       "        -1.02189664e-02],\n",
       "       [-3.31970715e-01, -1.00733078e-02,  1.04333103e-01,\n",
       "         9.92058238e-03],\n",
       "       [-3.83315768e-01,  6.21539823e-02,  1.69724806e-01,\n",
       "         6.87118562e-02],\n",
       "       [ 7.54599294e-02, -2.04150112e-01,  1.23097275e-02,\n",
       "         9.02304898e-02],\n",
       "       [ 5.60551400e-01,  3.79869053e-02,  2.01131468e-01,\n",
       "        -7.38044867e-02],\n",
       "       [ 1.22061567e-01, -2.80231202e-01,  6.79495155e-02,\n",
       "        -2.38757110e-01],\n",
       "       [-1.13293906e-01, -1.80457715e-01, -1.33121694e-01,\n",
       "         1.35864735e-01],\n",
       "       [-4.36942243e-01, -5.72987769e-02, -4.99305123e-02,\n",
       "         7.71060594e-02],\n",
       "       [-2.52296089e-01,  2.00304543e-02,  4.80863880e-02,\n",
       "        -4.10714221e-02],\n",
       "       [-8.80574772e-02,  1.15483151e-02, -3.26215120e-01,\n",
       "         1.33551775e-01],\n",
       "       [ 5.55648716e-01,  2.79303269e-02,  3.67353110e-01,\n",
       "        -9.91479302e-02],\n",
       "       [-6.10117465e-02, -1.07581135e-01,  1.19853091e-01,\n",
       "        -1.82182942e-01],\n",
       "       [-1.46277936e-01, -2.41303958e-01,  2.62636425e-01,\n",
       "         2.85722780e-01],\n",
       "       [-4.24174864e-01,  1.30638830e-01,  1.18546596e-02,\n",
       "         4.54722514e-02],\n",
       "       [ 4.23402855e-01, -4.57251758e-01,  1.23054968e-01,\n",
       "         5.92370686e-02],\n",
       "       [ 5.20183889e-01,  4.50791124e-01, -3.12240187e-01,\n",
       "        -1.28182835e-01],\n",
       "       [-4.37971789e-01,  1.27545962e-01,  1.65630846e-01,\n",
       "         3.14641394e-02],\n",
       "       [-2.54816123e-01,  2.88524826e-01, -4.94870252e-02,\n",
       "        -2.29426246e-01],\n",
       "       [-3.96514587e-01,  2.53969997e-01, -1.69869923e-01,\n",
       "         7.05881179e-02],\n",
       "       [-3.15153376e-01,  9.31808823e-02,  2.54959561e-02,\n",
       "         7.87238680e-03],\n",
       "       [-3.57600899e-01, -6.55448385e-02, -5.78916557e-02,\n",
       "        -3.23399588e-03],\n",
       "       [ 2.37369583e-01, -8.36284957e-02, -1.27623320e-01,\n",
       "        -1.18546436e-01],\n",
       "       [-2.87328223e-01,  1.02655288e-01,  2.33703605e-01,\n",
       "         2.58097536e-02],\n",
       "       [-4.40922493e-01,  1.16725122e-01, -7.04367966e-02,\n",
       "         4.92227899e-03],\n",
       "       [-3.01911501e-02, -2.06553727e-01,  2.06784452e-01,\n",
       "        -2.06556222e-01],\n",
       "       [-1.41325689e-01,  1.33886355e-02, -1.69477463e-01,\n",
       "         5.14249816e-02],\n",
       "       [ 8.07647387e-02, -3.69916867e-01, -2.56497122e-01,\n",
       "         2.98429155e-01],\n",
       "       [-3.46182948e-02,  7.44947722e-02,  5.46901527e-02,\n",
       "        -2.99596620e-01],\n",
       "       [-3.19138871e-01, -1.77937930e-02,  3.51512046e-02,\n",
       "        -1.57871184e-02],\n",
       "       [ 8.26346835e-01,  3.20811369e-01, -9.19893336e-02,\n",
       "         4.63565205e-02],\n",
       "       [-1.90028184e-01, -1.26251918e-01,  1.64487868e-01,\n",
       "        -2.23370164e-01],\n",
       "       [ 4.31209347e-01,  9.03176848e-02, -8.53990503e-02,\n",
       "         1.84119831e-01],\n",
       "       [-2.68185491e-01,  8.09269801e-02, -7.68294104e-02,\n",
       "        -9.93771729e-02],\n",
       "       [-2.97459550e-01,  1.78850256e-01,  1.14147833e-02,\n",
       "        -1.07578326e-01],\n",
       "       [ 4.81552329e-01,  2.60568614e-01,  2.68184425e-01,\n",
       "        -2.47495862e-03],\n",
       "       [-5.63989252e-01,  3.14256020e-02, -1.71721967e-01,\n",
       "         7.60304387e-02],\n",
       "       [ 1.34411189e-01, -2.99790464e-01, -9.13882996e-02,\n",
       "         1.18970124e-01],\n",
       "       [ 5.92394022e-02, -2.82851060e-01, -2.18385861e-01,\n",
       "         6.44465671e-02],\n",
       "       [ 7.04960178e-01, -1.79207518e-01, -2.31807703e-01,\n",
       "        -7.86556262e-02],\n",
       "       [-4.61818590e-02, -1.38622520e-02, -7.35151670e-02,\n",
       "         1.84629995e-01],\n",
       "       [-3.45536949e-01, -1.60797115e-02, -5.48466769e-02,\n",
       "        -3.49581891e-02],\n",
       "       [-6.19574662e-01,  1.74010453e-01,  2.64004726e-01,\n",
       "         1.79206899e-01],\n",
       "       [-5.35119898e-01,  1.03055929e-01, -1.56564739e-01,\n",
       "         1.75036057e-02],\n",
       "       [ 2.53303649e-01, -2.69021387e-02, -1.31822609e-01,\n",
       "         1.49209225e-01],\n",
       "       [-7.27176162e-02, -7.95849943e-02, -1.04818275e-02,\n",
       "        -1.91039268e-01],\n",
       "       [-3.95483305e-01, -1.17536058e-01, -7.74233735e-03,\n",
       "         4.26070859e-02],\n",
       "       [-1.95011755e-02,  6.01176041e-02,  2.34500969e-01,\n",
       "        -1.55941253e-01],\n",
       "       [-3.80670078e-01,  5.92548517e-02,  2.94509541e-01,\n",
       "         4.46022867e-02],\n",
       "       [-3.67879893e-01, -3.75286522e-02,  6.76411357e-02,\n",
       "        -4.03404085e-02],\n",
       "       [ 1.56507008e-01, -5.16290505e-01,  1.57496298e-01,\n",
       "        -6.93911676e-02],\n",
       "       [ 2.54669411e-01, -2.73608061e-01,  2.31190279e-01,\n",
       "         2.58434081e-02],\n",
       "       [-4.19947544e-01,  2.34876578e-01,  8.29370324e-02,\n",
       "         7.95408800e-02],\n",
       "       [-4.00080135e-01, -1.01942331e-01, -4.24106792e-01,\n",
       "        -1.69480050e-01],\n",
       "       [-1.25209990e-01, -2.10882612e-01, -1.98552075e-01,\n",
       "         3.32962970e-01],\n",
       "       [ 2.87701303e-01, -3.68385351e-01, -1.13233371e-01,\n",
       "        -2.48604936e-01]])"
      ]
     },
     "execution_count": 70,
     "metadata": {},
     "output_type": "execute_result"
    }
   ],
   "source": [
    "X_train"
   ]
  },
  {
   "cell_type": "code",
   "execution_count": 71,
   "metadata": {},
   "outputs": [
    {
     "data": {
      "text/plain": [
       "148    0\n",
       "93     0\n",
       "48     0\n",
       "157    1\n",
       "256    2\n",
       "      ..\n",
       "89     0\n",
       "210    2\n",
       "257    2\n",
       "97     0\n",
       "111    0\n",
       "Name: Class, Length: 217, dtype: object"
      ]
     },
     "execution_count": 71,
     "metadata": {},
     "output_type": "execute_result"
    }
   ],
   "source": [
    "y_train"
   ]
  },
  {
   "cell_type": "markdown",
   "metadata": {},
   "source": [
    "## Balancing data using over sampling"
   ]
  },
  {
   "cell_type": "code",
   "execution_count": 72,
   "metadata": {},
   "outputs": [],
   "source": [
    "from imblearn.over_sampling import SMOTE\n",
    "sm = SMOTE(sampling_strategy='auto', random_state=42, k_neighbors=4)\n",
    "X_oversampled , y_oversampled = sm.fit_resample(X_train, y_train)"
   ]
  },
  {
   "cell_type": "code",
   "execution_count": 73,
   "metadata": {},
   "outputs": [
    {
     "name": "stdout",
     "output_type": "stream",
     "text": [
      "Original class distribution: {'0': 150, '1': 60, '2': 100}\n",
      "New class distribution: {'0': 105, '1': 105, '2': 105}\n"
     ]
    }
   ],
   "source": [
    "# Summarize the fraud class distribution of the new SMOTE-transformed dataset\n",
    "unique_original, counts_original = np.unique(y, return_counts=True)\n",
    "unique_oversampled, counts_oversampled = np.unique(y_oversampled, return_counts=True)\n",
    "\n",
    "print('Original class distribution:', dict(zip(unique_original, counts_original)))\n",
    "print('New class distribution:',dict(zip(unique_oversampled, counts_oversampled)))"
   ]
  },
  {
   "cell_type": "code",
   "execution_count": 74,
   "metadata": {},
   "outputs": [
    {
     "data": {
      "text/plain": [
       "array([[ 0.77073115,  0.00780976, -0.28441775, -0.01573567],\n",
       "       [ 0.05689325, -0.0158856 , -0.07061775,  0.04374718],\n",
       "       [ 0.16706517, -0.23952849, -0.24793071,  0.10648454],\n",
       "       ...,\n",
       "       [-0.38230524,  0.07830249, -0.11614094, -0.06244953],\n",
       "       [ 0.08830674, -0.21532474,  0.05485212, -0.25857016],\n",
       "       [-0.2925729 ,  0.09887259,  0.12313909, -0.02335535]])"
      ]
     },
     "execution_count": 74,
     "metadata": {},
     "output_type": "execute_result"
    }
   ],
   "source": [
    "X_oversampled "
   ]
  },
  {
   "cell_type": "code",
   "execution_count": 75,
   "metadata": {},
   "outputs": [
    {
     "data": {
      "text/plain": [
       "array([105, 105, 105], dtype=int64)"
      ]
     },
     "execution_count": 75,
     "metadata": {},
     "output_type": "execute_result"
    }
   ],
   "source": [
    "counts_oversampled"
   ]
  },
  {
   "cell_type": "code",
   "execution_count": 76,
   "metadata": {},
   "outputs": [
    {
     "data": {
      "text/plain": [
       "0      0\n",
       "1      0\n",
       "2      0\n",
       "3      1\n",
       "4      2\n",
       "      ..\n",
       "310    2\n",
       "311    2\n",
       "312    2\n",
       "313    2\n",
       "314    2\n",
       "Name: Class, Length: 315, dtype: object"
      ]
     },
     "execution_count": 76,
     "metadata": {},
     "output_type": "execute_result"
    }
   ],
   "source": [
    "y_oversampled"
   ]
  },
  {
   "cell_type": "code",
   "execution_count": 77,
   "metadata": {},
   "outputs": [],
   "source": [
    "from sklearn.neighbors import KNeighborsClassifier"
   ]
  },
  {
   "cell_type": "code",
   "execution_count": null,
   "metadata": {},
   "outputs": [],
   "source": []
  },
  {
   "cell_type": "code",
   "execution_count": 78,
   "metadata": {},
   "outputs": [
    {
     "data": {
      "text/html": [
       "<style>#sk-container-id-2 {color: black;background-color: white;}#sk-container-id-2 pre{padding: 0;}#sk-container-id-2 div.sk-toggleable {background-color: white;}#sk-container-id-2 label.sk-toggleable__label {cursor: pointer;display: block;width: 100%;margin-bottom: 0;padding: 0.3em;box-sizing: border-box;text-align: center;}#sk-container-id-2 label.sk-toggleable__label-arrow:before {content: \"▸\";float: left;margin-right: 0.25em;color: #696969;}#sk-container-id-2 label.sk-toggleable__label-arrow:hover:before {color: black;}#sk-container-id-2 div.sk-estimator:hover label.sk-toggleable__label-arrow:before {color: black;}#sk-container-id-2 div.sk-toggleable__content {max-height: 0;max-width: 0;overflow: hidden;text-align: left;background-color: #f0f8ff;}#sk-container-id-2 div.sk-toggleable__content pre {margin: 0.2em;color: black;border-radius: 0.25em;background-color: #f0f8ff;}#sk-container-id-2 input.sk-toggleable__control:checked~div.sk-toggleable__content {max-height: 200px;max-width: 100%;overflow: auto;}#sk-container-id-2 input.sk-toggleable__control:checked~label.sk-toggleable__label-arrow:before {content: \"▾\";}#sk-container-id-2 div.sk-estimator input.sk-toggleable__control:checked~label.sk-toggleable__label {background-color: #d4ebff;}#sk-container-id-2 div.sk-label input.sk-toggleable__control:checked~label.sk-toggleable__label {background-color: #d4ebff;}#sk-container-id-2 input.sk-hidden--visually {border: 0;clip: rect(1px 1px 1px 1px);clip: rect(1px, 1px, 1px, 1px);height: 1px;margin: -1px;overflow: hidden;padding: 0;position: absolute;width: 1px;}#sk-container-id-2 div.sk-estimator {font-family: monospace;background-color: #f0f8ff;border: 1px dotted black;border-radius: 0.25em;box-sizing: border-box;margin-bottom: 0.5em;}#sk-container-id-2 div.sk-estimator:hover {background-color: #d4ebff;}#sk-container-id-2 div.sk-parallel-item::after {content: \"\";width: 100%;border-bottom: 1px solid gray;flex-grow: 1;}#sk-container-id-2 div.sk-label:hover label.sk-toggleable__label {background-color: #d4ebff;}#sk-container-id-2 div.sk-serial::before {content: \"\";position: absolute;border-left: 1px solid gray;box-sizing: border-box;top: 0;bottom: 0;left: 50%;z-index: 0;}#sk-container-id-2 div.sk-serial {display: flex;flex-direction: column;align-items: center;background-color: white;padding-right: 0.2em;padding-left: 0.2em;position: relative;}#sk-container-id-2 div.sk-item {position: relative;z-index: 1;}#sk-container-id-2 div.sk-parallel {display: flex;align-items: stretch;justify-content: center;background-color: white;position: relative;}#sk-container-id-2 div.sk-item::before, #sk-container-id-2 div.sk-parallel-item::before {content: \"\";position: absolute;border-left: 1px solid gray;box-sizing: border-box;top: 0;bottom: 0;left: 50%;z-index: -1;}#sk-container-id-2 div.sk-parallel-item {display: flex;flex-direction: column;z-index: 1;position: relative;background-color: white;}#sk-container-id-2 div.sk-parallel-item:first-child::after {align-self: flex-end;width: 50%;}#sk-container-id-2 div.sk-parallel-item:last-child::after {align-self: flex-start;width: 50%;}#sk-container-id-2 div.sk-parallel-item:only-child::after {width: 0;}#sk-container-id-2 div.sk-dashed-wrapped {border: 1px dashed gray;margin: 0 0.4em 0.5em 0.4em;box-sizing: border-box;padding-bottom: 0.4em;background-color: white;}#sk-container-id-2 div.sk-label label {font-family: monospace;font-weight: bold;display: inline-block;line-height: 1.2em;}#sk-container-id-2 div.sk-label-container {text-align: center;}#sk-container-id-2 div.sk-container {/* jupyter's `normalize.less` sets `[hidden] { display: none; }` but bootstrap.min.css set `[hidden] { display: none !important; }` so we also need the `!important` here to be able to override the default hidden behavior on the sphinx rendered scikit-learn.org. See: https://github.com/scikit-learn/scikit-learn/issues/21755 */display: inline-block !important;position: relative;}#sk-container-id-2 div.sk-text-repr-fallback {display: none;}</style><div id=\"sk-container-id-2\" class=\"sk-top-container\"><div class=\"sk-text-repr-fallback\"><pre>KNeighborsClassifier()</pre><b>In a Jupyter environment, please rerun this cell to show the HTML representation or trust the notebook. <br />On GitHub, the HTML representation is unable to render, please try loading this page with nbviewer.org.</b></div><div class=\"sk-container\" hidden><div class=\"sk-item\"><div class=\"sk-estimator sk-toggleable\"><input class=\"sk-toggleable__control sk-hidden--visually\" id=\"sk-estimator-id-2\" type=\"checkbox\" checked><label for=\"sk-estimator-id-2\" class=\"sk-toggleable__label sk-toggleable__label-arrow\">KNeighborsClassifier</label><div class=\"sk-toggleable__content\"><pre>KNeighborsClassifier()</pre></div></div></div></div></div>"
      ],
      "text/plain": [
       "KNeighborsClassifier()"
      ]
     },
     "execution_count": 78,
     "metadata": {},
     "output_type": "execute_result"
    }
   ],
   "source": [
    "KNN=KNeighborsClassifier(n_neighbors= 5)\n",
    "#call nearest neighbors algorithm\n",
    "KNN.fit(X_oversampled,y_oversampled )"
   ]
  },
  {
   "cell_type": "code",
   "execution_count": 79,
   "metadata": {},
   "outputs": [
    {
     "name": "stdout",
     "output_type": "stream",
     "text": [
      "Accuracy: 0.9333333333333333\n"
     ]
    },
    {
     "data": {
      "text/plain": [
       "0.8494623655913979"
      ]
     },
     "execution_count": 79,
     "metadata": {},
     "output_type": "execute_result"
    }
   ],
   "source": [
    "print(\"Accuracy:\",KNN.score(X_oversampled,y_oversampled))\n",
    "predicted_labels = KNN.predict(X_test)\n",
    "KNN.score(X_test,y_test)"
   ]
  },
  {
   "cell_type": "code",
   "execution_count": 80,
   "metadata": {},
   "outputs": [
    {
     "data": {
      "text/plain": [
       "array(['2', '2', '2', '1', '0', '0', '1', '1', '0', '2', '1', '1', '0',\n",
       "       '1', '2', '0', '2', '1', '1', '0', '0', '0', '2', '0', '2', '0',\n",
       "       '2', '2', '0', '0', '2', '1', '2', '1', '0', '0', '0', '1', '0',\n",
       "       '0', '0', '0', '0', '1', '0', '2', '0', '0', '2', '0', '2', '2',\n",
       "       '2', '2', '1', '2', '2', '0', '1', '1', '0', '2', '1', '0', '1',\n",
       "       '1', '0', '2', '2', '0', '0', '0', '0', '0', '0', '2', '2', '1',\n",
       "       '1', '0', '0', '1', '0', '2', '0', '0', '0', '0', '1', '1', '1',\n",
       "       '2', '0'], dtype=object)"
      ]
     },
     "execution_count": 80,
     "metadata": {},
     "output_type": "execute_result"
    }
   ],
   "source": [
    "predicted_labels"
   ]
  },
  {
   "cell_type": "code",
   "execution_count": 81,
   "metadata": {},
   "outputs": [
    {
     "data": {
      "text/plain": [
       "0.8494623655913979"
      ]
     },
     "execution_count": 81,
     "metadata": {},
     "output_type": "execute_result"
    }
   ],
   "source": [
    "KNN.score(X_test,y_test)"
   ]
  },
  {
   "cell_type": "code",
   "execution_count": null,
   "metadata": {},
   "outputs": [],
   "source": [
    "#By the given data ,We have detailed analysis using KNN model  where the prediction was 80% with the given data"
   ]
  },
  {
   "cell_type": "code",
   "execution_count": null,
   "metadata": {},
   "outputs": [],
   "source": []
  },
  {
   "cell_type": "code",
   "execution_count": null,
   "metadata": {},
   "outputs": [],
   "source": []
  },
  {
   "cell_type": "code",
   "execution_count": null,
   "metadata": {},
   "outputs": [],
   "source": []
  }
 ],
 "metadata": {
  "kernelspec": {
   "display_name": "Python 3 (ipykernel)",
   "language": "python",
   "name": "python3"
  },
  "language_info": {
   "codemirror_mode": {
    "name": "ipython",
    "version": 3
   },
   "file_extension": ".py",
   "mimetype": "text/x-python",
   "name": "python",
   "nbconvert_exporter": "python",
   "pygments_lexer": "ipython3",
   "version": "3.9.7"
  }
 },
 "nbformat": 4,
 "nbformat_minor": 4
}
